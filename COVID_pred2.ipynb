{
 "cells": [
  {
   "cell_type": "markdown",
   "metadata": {},
   "source": [
    "### COVID-19 Prediction Week4 - Non-overlapping data\n",
    "\n",
    "https://www.kaggle.com/c/covid19-global-forecasting-week-4"
   ]
  },
  {
   "cell_type": "code",
   "execution_count": 1,
   "metadata": {
    "collapsed": true
   },
   "outputs": [],
   "source": [
    "import numpy as np\n",
    "import pandas as pd\n",
    "import warnings\n",
    "warnings.filterwarnings(\"ignore\")\n"
   ]
  },
  {
   "cell_type": "markdown",
   "metadata": {},
   "source": [
    "#### Read and organize the data"
   ]
  },
  {
   "cell_type": "code",
   "execution_count": 2,
   "metadata": {
    "collapsed": false
   },
   "outputs": [
    {
     "data": {
      "text/html": [
       "<div>\n",
       "<table border=\"1\" class=\"dataframe\">\n",
       "  <thead>\n",
       "    <tr style=\"text-align: right;\">\n",
       "      <th></th>\n",
       "      <th>Id</th>\n",
       "      <th>Province_State</th>\n",
       "      <th>Country_Region</th>\n",
       "      <th>Date</th>\n",
       "      <th>ConfirmedCases</th>\n",
       "      <th>Fatalities</th>\n",
       "      <th>Region</th>\n",
       "    </tr>\n",
       "  </thead>\n",
       "  <tbody>\n",
       "    <tr>\n",
       "      <th>0</th>\n",
       "      <td>1</td>\n",
       "      <td></td>\n",
       "      <td>Afghanistan</td>\n",
       "      <td>2020-01-22</td>\n",
       "      <td>0.0</td>\n",
       "      <td>0.0</td>\n",
       "      <td>Afghanistan_</td>\n",
       "    </tr>\n",
       "    <tr>\n",
       "      <th>1</th>\n",
       "      <td>2</td>\n",
       "      <td></td>\n",
       "      <td>Afghanistan</td>\n",
       "      <td>2020-01-23</td>\n",
       "      <td>0.0</td>\n",
       "      <td>0.0</td>\n",
       "      <td>Afghanistan_</td>\n",
       "    </tr>\n",
       "    <tr>\n",
       "      <th>2</th>\n",
       "      <td>3</td>\n",
       "      <td></td>\n",
       "      <td>Afghanistan</td>\n",
       "      <td>2020-01-24</td>\n",
       "      <td>0.0</td>\n",
       "      <td>0.0</td>\n",
       "      <td>Afghanistan_</td>\n",
       "    </tr>\n",
       "    <tr>\n",
       "      <th>3</th>\n",
       "      <td>4</td>\n",
       "      <td></td>\n",
       "      <td>Afghanistan</td>\n",
       "      <td>2020-01-25</td>\n",
       "      <td>0.0</td>\n",
       "      <td>0.0</td>\n",
       "      <td>Afghanistan_</td>\n",
       "    </tr>\n",
       "    <tr>\n",
       "      <th>4</th>\n",
       "      <td>5</td>\n",
       "      <td></td>\n",
       "      <td>Afghanistan</td>\n",
       "      <td>2020-01-26</td>\n",
       "      <td>0.0</td>\n",
       "      <td>0.0</td>\n",
       "      <td>Afghanistan_</td>\n",
       "    </tr>\n",
       "  </tbody>\n",
       "</table>\n",
       "</div>"
      ],
      "text/plain": [
       "   Id Province_State Country_Region       Date  ConfirmedCases  Fatalities  \\\n",
       "0   1                   Afghanistan 2020-01-22             0.0         0.0   \n",
       "1   2                   Afghanistan 2020-01-23             0.0         0.0   \n",
       "2   3                   Afghanistan 2020-01-24             0.0         0.0   \n",
       "3   4                   Afghanistan 2020-01-25             0.0         0.0   \n",
       "4   5                   Afghanistan 2020-01-26             0.0         0.0   \n",
       "\n",
       "         Region  \n",
       "0  Afghanistan_  \n",
       "1  Afghanistan_  \n",
       "2  Afghanistan_  \n",
       "3  Afghanistan_  \n",
       "4  Afghanistan_  "
      ]
     },
     "execution_count": 2,
     "metadata": {},
     "output_type": "execute_result"
    }
   ],
   "source": [
    "dfTr = pd.read_csv(\"../Data/train.csv\", parse_dates=['Date'])\n",
    "dfTe = pd.read_csv(\"../Data/test.csv\", parse_dates=['Date'])\n",
    "\n",
    "dfTr[\"Province_State\"] = dfTr[\"Province_State\"].fillna('')\n",
    "dfTe[\"Province_State\"] = dfTe[\"Province_State\"].fillna('')\n",
    "\n",
    "dfTr[\"Region\"] = dfTr.Country_Region + '_' + dfTr.Province_State\n",
    "dfTe[\"Region\"] = dfTe.Country_Region + '_' + dfTe.Province_State\n",
    "\n",
    "dfOut = dfTe.copy()\n",
    "\n",
    "dfTr.head()"
   ]
  },
  {
   "cell_type": "code",
   "execution_count": 3,
   "metadata": {
    "collapsed": false
   },
   "outputs": [
    {
     "data": {
      "text/plain": [
       "(13459, 2)"
      ]
     },
     "execution_count": 3,
     "metadata": {},
     "output_type": "execute_result"
    }
   ],
   "source": [
    "dfTe.iloc[:,3:5].shape"
   ]
  },
  {
   "cell_type": "code",
   "execution_count": 4,
   "metadata": {
    "collapsed": false
   },
   "outputs": [],
   "source": [
    "stDate = pd.to_datetime(dfTr.Date.min())\n",
    "\n",
    "dfTr['DaysFromStart'] = (pd.to_datetime(dfTr.Date) - stDate).dt.days\n",
    "dfTe['DaysFromStart'] = (pd.to_datetime(dfTe.Date) - stDate).dt.days\n"
   ]
  },
  {
   "cell_type": "code",
   "execution_count": 5,
   "metadata": {
    "collapsed": false
   },
   "outputs": [
    {
     "data": {
      "text/html": [
       "<div>\n",
       "<table border=\"1\" class=\"dataframe\">\n",
       "  <thead>\n",
       "    <tr style=\"text-align: right;\">\n",
       "      <th></th>\n",
       "      <th>Id</th>\n",
       "      <th>Province_State</th>\n",
       "      <th>Country_Region</th>\n",
       "      <th>Date</th>\n",
       "      <th>ConfirmedCases</th>\n",
       "      <th>Fatalities</th>\n",
       "      <th>Region</th>\n",
       "      <th>DaysFromStart</th>\n",
       "    </tr>\n",
       "  </thead>\n",
       "  <tbody>\n",
       "    <tr>\n",
       "      <th>0</th>\n",
       "      <td>1</td>\n",
       "      <td></td>\n",
       "      <td>Afghanistan</td>\n",
       "      <td>2020-01-22</td>\n",
       "      <td>0.0</td>\n",
       "      <td>0.0</td>\n",
       "      <td>Afghanistan_</td>\n",
       "      <td>0</td>\n",
       "    </tr>\n",
       "    <tr>\n",
       "      <th>1</th>\n",
       "      <td>2</td>\n",
       "      <td></td>\n",
       "      <td>Afghanistan</td>\n",
       "      <td>2020-01-23</td>\n",
       "      <td>0.0</td>\n",
       "      <td>0.0</td>\n",
       "      <td>Afghanistan_</td>\n",
       "      <td>1</td>\n",
       "    </tr>\n",
       "    <tr>\n",
       "      <th>2</th>\n",
       "      <td>3</td>\n",
       "      <td></td>\n",
       "      <td>Afghanistan</td>\n",
       "      <td>2020-01-24</td>\n",
       "      <td>0.0</td>\n",
       "      <td>0.0</td>\n",
       "      <td>Afghanistan_</td>\n",
       "      <td>2</td>\n",
       "    </tr>\n",
       "    <tr>\n",
       "      <th>3</th>\n",
       "      <td>4</td>\n",
       "      <td></td>\n",
       "      <td>Afghanistan</td>\n",
       "      <td>2020-01-25</td>\n",
       "      <td>0.0</td>\n",
       "      <td>0.0</td>\n",
       "      <td>Afghanistan_</td>\n",
       "      <td>3</td>\n",
       "    </tr>\n",
       "    <tr>\n",
       "      <th>4</th>\n",
       "      <td>5</td>\n",
       "      <td></td>\n",
       "      <td>Afghanistan</td>\n",
       "      <td>2020-01-26</td>\n",
       "      <td>0.0</td>\n",
       "      <td>0.0</td>\n",
       "      <td>Afghanistan_</td>\n",
       "      <td>4</td>\n",
       "    </tr>\n",
       "  </tbody>\n",
       "</table>\n",
       "</div>"
      ],
      "text/plain": [
       "   Id Province_State Country_Region       Date  ConfirmedCases  Fatalities  \\\n",
       "0   1                   Afghanistan 2020-01-22             0.0         0.0   \n",
       "1   2                   Afghanistan 2020-01-23             0.0         0.0   \n",
       "2   3                   Afghanistan 2020-01-24             0.0         0.0   \n",
       "3   4                   Afghanistan 2020-01-25             0.0         0.0   \n",
       "4   5                   Afghanistan 2020-01-26             0.0         0.0   \n",
       "\n",
       "         Region  DaysFromStart  \n",
       "0  Afghanistan_              0  \n",
       "1  Afghanistan_              1  \n",
       "2  Afghanistan_              2  \n",
       "3  Afghanistan_              3  \n",
       "4  Afghanistan_              4  "
      ]
     },
     "execution_count": 5,
     "metadata": {},
     "output_type": "execute_result"
    }
   ],
   "source": [
    "dfTr.head()"
   ]
  },
  {
   "cell_type": "code",
   "execution_count": 6,
   "metadata": {
    "collapsed": false
   },
   "outputs": [
    {
     "data": {
      "text/plain": [
       "(313,)"
      ]
     },
     "execution_count": 6,
     "metadata": {},
     "output_type": "execute_result"
    }
   ],
   "source": [
    "dfTr.Region = dfTr.Region.str.replace('*','')\n",
    "dfTe.Region = dfTe.Region.str.replace('*','')\n",
    "\n",
    "RegUniq = np.unique(dfTr.Region)\n",
    "RegUniq.shape"
   ]
  },
  {
   "cell_type": "markdown",
   "metadata": {},
   "source": [
    "#### Plot day stats"
   ]
  },
  {
   "cell_type": "code",
   "execution_count": 7,
   "metadata": {
    "collapsed": false
   },
   "outputs": [
    {
     "data": {
      "image/png": "[encoded data removed]",
      "text/plain": [
       "<matplotlib.figure.Figure at 0x7fe6987669b0>"
      ]
     },
     "metadata": {},
     "output_type": "display_data"
    }
   ],
   "source": [
    "import matplotlib.pyplot as plt\n",
    "import random\n",
    "numReg = 5\n",
    "\n",
    "selReg = random.choices(RegUniq, k=numReg)\n",
    "dfTmp = dfTr[dfTr.Region.isin(selReg)]\n",
    "selReg\n",
    "fig = plt.figure()\n",
    "ax = fig.add_subplot(111)\n",
    "\n",
    "lines = dfTmp.groupby('Region').plot(x='DaysFromStart', y='ConfirmedCases', ax=ax)\n",
    "ax.legend(selReg, loc='best')\n",
    "plt.show()"
   ]
  },
  {
   "cell_type": "markdown",
   "metadata": {},
   "source": [
    "### Make train/test sets"
   ]
  },
  {
   "cell_type": "code",
   "execution_count": 8,
   "metadata": {
    "collapsed": false
   },
   "outputs": [
    {
     "name": "stdout",
     "output_type": "stream",
     "text": [
      "Train dates : 0 to 80\n",
      "Test dates : 71 to 113\n",
      "\n",
      "Train dates : 2020-01-22 00:00:00 to 2020-04-11 00:00:00\n",
      "Test dates : 2020-04-02 00:00:00 to 2020-05-14 00:00:00\n"
     ]
    }
   ],
   "source": [
    "print('Train dates : ' + str(dfTr.DaysFromStart.min()) + ' to ' + str(dfTr.DaysFromStart.max()))\n",
    "print('Test dates : ' + str(dfTe.DaysFromStart.min()) + ' to ' + str(dfTe.DaysFromStart.max()))\n",
    "print('')\n",
    "print('Train dates : ' + str(dfTr.Date.min()) + ' to ' + str(dfTr.Date.max()))\n",
    "print('Test dates : ' + str(dfTe.Date.min()) + ' to ' + str(dfTe.Date.max()))"
   ]
  },
  {
   "cell_type": "code",
   "execution_count": 9,
   "metadata": {
    "collapsed": true
   },
   "outputs": [],
   "source": [
    "## Remove overlapping days from training\n",
    "dfTe2 = dfTr[dfTr.DaysFromStart >= dfTe.DaysFromStart.min()]\n",
    "dfTr = dfTr[dfTr.DaysFromStart < dfTe.DaysFromStart.min()]\n"
   ]
  },
  {
   "cell_type": "markdown",
   "metadata": {},
   "source": [
    "#### First model: simple regression (polynomial model)"
   ]
  },
  {
   "cell_type": "code",
   "execution_count": 10,
   "metadata": {
    "collapsed": false
   },
   "outputs": [],
   "source": [
    "from sklearn.preprocessing import PolynomialFeatures\n",
    "from sklearn.linear_model import LinearRegression\n",
    "from sklearn.preprocessing import StandardScaler\n",
    "\n",
    "polyCC = PolynomialFeatures(degree = 4)\n",
    "polyFAT = PolynomialFeatures(degree = 4)\n",
    "\n",
    "regCC = LinearRegression()\n",
    "regFAT = LinearRegression()\n",
    "\n",
    "dfTeWithPred = dfTe.copy()\n",
    "\n",
    "for i, tmpReg in enumerate(RegUniq):\n",
    "    #print('Region: ' + str(i))\n",
    "    dfSelTr = dfTr[dfTr.Region == tmpReg]\n",
    "    dfSelTe = dfTe[dfTe.Region == tmpReg]\n",
    "    \n",
    "    XTr = np.array(dfSelTr.DaysFromStart).reshape([dfSelTr.shape[0],1])\n",
    "    XTe = np.array(dfSelTe.DaysFromStart).reshape([dfSelTe.shape[0],1])\n",
    "\n",
    "    yccTr = np.array(dfSelTr.ConfirmedCases)\n",
    "    yfatTr = np.array(dfSelTr.Fatalities)\n",
    "    \n",
    "    X_poly = polyCC.fit_transform(XTr)\n",
    "    regCC.fit(X_poly, yccTr)\n",
    "    predCC = regCC.predict(polyCC.fit_transform(XTe))\n",
    "\n",
    "    X_poly = polyFAT.fit_transform(XTr)\n",
    "    regFAT.fit(X_poly, yfatTr)\n",
    "    predFAT = regFAT.predict(polyFAT.fit_transform(XTe))\n",
    "    \n",
    "    ## Add predictions to test df\n",
    "    dfTeWithPred.loc[dfSelTe.index,'ConfirmedCases'] = predCC\n",
    "    dfTeWithPred.loc[dfSelTe.index,'Fatalities'] = predFAT\n",
    "    \n",
    "    "
   ]
  },
  {
   "cell_type": "code",
   "execution_count": 11,
   "metadata": {
    "collapsed": false
   },
   "outputs": [
    {
     "data": {
      "text/html": [
       "<div>\n",
       "<table border=\"1\" class=\"dataframe\">\n",
       "  <thead>\n",
       "    <tr style=\"text-align: right;\">\n",
       "      <th></th>\n",
       "      <th>ForecastId</th>\n",
       "      <th>Province_State</th>\n",
       "      <th>Country_Region</th>\n",
       "      <th>Date</th>\n",
       "      <th>Region</th>\n",
       "      <th>DaysFromStart</th>\n",
       "      <th>ConfirmedCases</th>\n",
       "      <th>Fatalities</th>\n",
       "    </tr>\n",
       "  </thead>\n",
       "  <tbody>\n",
       "    <tr>\n",
       "      <th>0</th>\n",
       "      <td>1</td>\n",
       "      <td></td>\n",
       "      <td>Afghanistan</td>\n",
       "      <td>2020-04-02</td>\n",
       "      <td>Afghanistan_</td>\n",
       "      <td>71</td>\n",
       "      <td>226.947047</td>\n",
       "      <td>5.692560</td>\n",
       "    </tr>\n",
       "    <tr>\n",
       "      <th>1</th>\n",
       "      <td>2</td>\n",
       "      <td></td>\n",
       "      <td>Afghanistan</td>\n",
       "      <td>2020-04-03</td>\n",
       "      <td>Afghanistan_</td>\n",
       "      <td>72</td>\n",
       "      <td>252.900046</td>\n",
       "      <td>6.354310</td>\n",
       "    </tr>\n",
       "    <tr>\n",
       "      <th>2</th>\n",
       "      <td>3</td>\n",
       "      <td></td>\n",
       "      <td>Afghanistan</td>\n",
       "      <td>2020-04-04</td>\n",
       "      <td>Afghanistan_</td>\n",
       "      <td>73</td>\n",
       "      <td>280.874786</td>\n",
       "      <td>7.066920</td>\n",
       "    </tr>\n",
       "    <tr>\n",
       "      <th>3</th>\n",
       "      <td>4</td>\n",
       "      <td></td>\n",
       "      <td>Afghanistan</td>\n",
       "      <td>2020-04-05</td>\n",
       "      <td>Afghanistan_</td>\n",
       "      <td>74</td>\n",
       "      <td>310.967384</td>\n",
       "      <td>7.832756</td>\n",
       "    </tr>\n",
       "    <tr>\n",
       "      <th>4</th>\n",
       "      <td>5</td>\n",
       "      <td></td>\n",
       "      <td>Afghanistan</td>\n",
       "      <td>2020-04-06</td>\n",
       "      <td>Afghanistan_</td>\n",
       "      <td>75</td>\n",
       "      <td>343.276073</td>\n",
       "      <td>8.654234</td>\n",
       "    </tr>\n",
       "  </tbody>\n",
       "</table>\n",
       "</div>"
      ],
      "text/plain": [
       "   ForecastId Province_State Country_Region       Date        Region  \\\n",
       "0           1                   Afghanistan 2020-04-02  Afghanistan_   \n",
       "1           2                   Afghanistan 2020-04-03  Afghanistan_   \n",
       "2           3                   Afghanistan 2020-04-04  Afghanistan_   \n",
       "3           4                   Afghanistan 2020-04-05  Afghanistan_   \n",
       "4           5                   Afghanistan 2020-04-06  Afghanistan_   \n",
       "\n",
       "   DaysFromStart  ConfirmedCases  Fatalities  \n",
       "0             71      226.947047    5.692560  \n",
       "1             72      252.900046    6.354310  \n",
       "2             73      280.874786    7.066920  \n",
       "3             74      310.967384    7.832756  \n",
       "4             75      343.276073    8.654234  "
      ]
     },
     "execution_count": 11,
     "metadata": {},
     "output_type": "execute_result"
    }
   ],
   "source": [
    "## Show predictions\n",
    "dfTeWithPred.head()"
   ]
  },
  {
   "cell_type": "code",
   "execution_count": 12,
   "metadata": {
    "collapsed": false
   },
   "outputs": [
    {
     "data": {
      "text/html": [
       "<div>\n",
       "<table border=\"1\" class=\"dataframe\">\n",
       "  <thead>\n",
       "    <tr style=\"text-align: right;\">\n",
       "      <th></th>\n",
       "      <th>ForecastId</th>\n",
       "      <th>ConfirmedCases</th>\n",
       "      <th>Fatalities</th>\n",
       "    </tr>\n",
       "  </thead>\n",
       "  <tbody>\n",
       "    <tr>\n",
       "      <th>0</th>\n",
       "      <td>1</td>\n",
       "      <td>227</td>\n",
       "      <td>6</td>\n",
       "    </tr>\n",
       "    <tr>\n",
       "      <th>1</th>\n",
       "      <td>2</td>\n",
       "      <td>253</td>\n",
       "      <td>6</td>\n",
       "    </tr>\n",
       "    <tr>\n",
       "      <th>2</th>\n",
       "      <td>3</td>\n",
       "      <td>281</td>\n",
       "      <td>7</td>\n",
       "    </tr>\n",
       "    <tr>\n",
       "      <th>3</th>\n",
       "      <td>4</td>\n",
       "      <td>311</td>\n",
       "      <td>8</td>\n",
       "    </tr>\n",
       "    <tr>\n",
       "      <th>4</th>\n",
       "      <td>5</td>\n",
       "      <td>343</td>\n",
       "      <td>9</td>\n",
       "    </tr>\n",
       "  </tbody>\n",
       "</table>\n",
       "</div>"
      ],
      "text/plain": [
       "   ForecastId  ConfirmedCases  Fatalities\n",
       "0           1             227           6\n",
       "1           2             253           6\n",
       "2           3             281           7\n",
       "3           4             311           8\n",
       "4           5             343           9"
      ]
     },
     "execution_count": 12,
     "metadata": {},
     "output_type": "execute_result"
    }
   ],
   "source": [
    "## Prepare submission file\n",
    "dfOut = dfTeWithPred[['ForecastId', 'ConfirmedCases', 'Fatalities']].round().astype(int)\n",
    "dfOut.head()"
   ]
  },
  {
   "cell_type": "markdown",
   "metadata": {},
   "source": [
    "### Show predictions"
   ]
  },
  {
   "cell_type": "code",
   "execution_count": 13,
   "metadata": {
    "collapsed": false
   },
   "outputs": [
    {
     "name": "stdout",
     "output_type": "stream",
     "text": [
      "Zimbabwe_\n"
     ]
    },
    {
     "data": {
      "image/png": "[encoded data removed]",
      "text/plain": [
       "<matplotlib.figure.Figure at 0x7fe6983edcf8>"
      ]
     },
     "metadata": {},
     "output_type": "display_data"
    }
   ],
   "source": [
    "## Show predictions\n",
    "\n",
    "print(tmpReg)\n",
    "\n",
    "fig, ax = plt.subplots(figsize = [16, 8])\n",
    "\n",
    "plt.plot(XTr, yccTr, linewidth = 4, alpha=0.5)\n",
    "plt.plot(XTe, predCC, 'g.')\n",
    "plt.show()\n"
   ]
  },
  {
   "cell_type": "markdown",
   "metadata": {},
   "source": [
    "### Show predictions"
   ]
  },
  {
   "cell_type": "code",
   "execution_count": 23,
   "metadata": {
    "collapsed": false,
    "scrolled": false
   },
   "outputs": [
    {
     "data": {
      "image/png": "[encoded data removed]",
      "text/plain": [
       "<matplotlib.figure.Figure at 0x7fe67a3aa5c0>"
      ]
     },
     "metadata": {},
     "output_type": "display_data"
    }
   ],
   "source": [
    "## Show predictions\n",
    "\n",
    "SelReg = 'Sweden_'\n",
    "#SelReg = 'Italy_'\n",
    "#SelReg = 'US_Pennsylvania'\n",
    "SelVar = 'ConfirmedCases'\n",
    "#SelVar = 'Fatalities'\n",
    "\n",
    "dfSel = dfTr[dfTr.Region == SelReg]\n",
    "xTr = dfSel.DaysFromStart\n",
    "yTr = dfSel[SelVar]\n",
    "\n",
    "dfSel = dfTe2[dfTe2.Region == SelReg]\n",
    "xTe2 = dfSel.DaysFromStart\n",
    "yTe2 = dfSel[SelVar]\n",
    "\n",
    "dfSel = dfTeWithPred[dfTeWithPred.Region == SelReg]\n",
    "xTe = dfSel.DaysFromStart\n",
    "yTe = dfSel[SelVar]\n",
    "\n",
    "fig, ax = plt.subplots(figsize = [16, 8])\n",
    "fig.canvas.draw()\n",
    "\n",
    "ax.xaxis.set_major_locator(plt.MaxNLocator(30))\n",
    "ax.plot(xTr, yTr, linewidth=5, alpha=0.5)\n",
    "ax.plot(xTe2, yTe2, 'g', linewidth=5, alpha=0.5)\n",
    "ax.plot(xTe, yTe, 'r.')\n",
    "\n",
    "plt.xticks(rotation=10)\n",
    "plt.show()\n"
   ]
  },
  {
   "cell_type": "markdown",
   "metadata": {},
   "source": [
    "### Show US predictions"
   ]
  },
  {
   "cell_type": "code",
   "execution_count": 15,
   "metadata": {
    "collapsed": false
   },
   "outputs": [
    {
     "data": {
      "text/plain": [
       "array(['US_Alabama', 'US_Alaska', 'US_Arizona', 'US_Arkansas',\n",
       "       'US_California', 'US_Colorado', 'US_Connecticut', 'US_Delaware',\n",
       "       'US_District of Columbia', 'US_Florida', 'US_Georgia', 'US_Guam',\n",
       "       'US_Hawaii', 'US_Idaho', 'US_Illinois', 'US_Indiana', 'US_Iowa',\n",
       "       'US_Kansas', 'US_Kentucky', 'US_Louisiana', 'US_Maine',\n",
       "       'US_Maryland', 'US_Massachusetts', 'US_Michigan', 'US_Minnesota',\n",
       "       'US_Mississippi', 'US_Missouri', 'US_Montana', 'US_Nebraska',\n",
       "       'US_Nevada', 'US_New Hampshire', 'US_New Jersey', 'US_New Mexico',\n",
       "       'US_New York', 'US_North Carolina', 'US_North Dakota', 'US_Ohio',\n",
       "       'US_Oklahoma', 'US_Oregon', 'US_Pennsylvania', 'US_Puerto Rico',\n",
       "       'US_Rhode Island', 'US_South Carolina', 'US_South Dakota',\n",
       "       'US_Tennessee', 'US_Texas', 'US_Utah', 'US_Vermont',\n",
       "       'US_Virgin Islands', 'US_Virginia', 'US_Washington',\n",
       "       'US_West Virginia', 'US_Wisconsin', 'US_Wyoming'], dtype=object)"
      ]
     },
     "execution_count": 15,
     "metadata": {},
     "output_type": "execute_result"
    }
   ],
   "source": [
    "dfTr[dfTr.Region.str.contains('US_')].Region.unique()"
   ]
  },
  {
   "cell_type": "code",
   "execution_count": 29,
   "metadata": {
    "collapsed": false
   },
   "outputs": [
    {
     "data": {
      "text/html": [
       "<div>\n",
       "<table border=\"1\" class=\"dataframe\">\n",
       "  <thead>\n",
       "    <tr style=\"text-align: right;\">\n",
       "      <th></th>\n",
       "      <th>Date</th>\n",
       "      <th>DaysFromStart</th>\n",
       "      <th>ConfirmedCases</th>\n",
       "      <th>Fatalities</th>\n",
       "    </tr>\n",
       "  </thead>\n",
       "  <tbody>\n",
       "    <tr>\n",
       "      <th>0</th>\n",
       "      <td>2020-04-02</td>\n",
       "      <td>71</td>\n",
       "      <td>229350.076235</td>\n",
       "      <td>4517.736832</td>\n",
       "    </tr>\n",
       "    <tr>\n",
       "      <th>1</th>\n",
       "      <td>2020-04-03</td>\n",
       "      <td>72</td>\n",
       "      <td>257187.095270</td>\n",
       "      <td>5108.320440</td>\n",
       "    </tr>\n",
       "    <tr>\n",
       "      <th>2</th>\n",
       "      <td>2020-04-04</td>\n",
       "      <td>73</td>\n",
       "      <td>287254.326370</td>\n",
       "      <td>5748.626493</td>\n",
       "    </tr>\n",
       "    <tr>\n",
       "      <th>3</th>\n",
       "      <td>2020-04-05</td>\n",
       "      <td>74</td>\n",
       "      <td>319659.284070</td>\n",
       "      <td>6441.136416</td>\n",
       "    </tr>\n",
       "    <tr>\n",
       "      <th>4</th>\n",
       "      <td>2020-04-06</td>\n",
       "      <td>75</td>\n",
       "      <td>354511.867805</td>\n",
       "      <td>7188.388082</td>\n",
       "    </tr>\n",
       "  </tbody>\n",
       "</table>\n",
       "</div>"
      ],
      "text/plain": [
       "        Date  DaysFromStart  ConfirmedCases   Fatalities\n",
       "0 2020-04-02             71   229350.076235  4517.736832\n",
       "1 2020-04-03             72   257187.095270  5108.320440\n",
       "2 2020-04-04             73   287254.326370  5748.626493\n",
       "3 2020-04-05             74   319659.284070  6441.136416\n",
       "4 2020-04-06             75   354511.867805  7188.388082"
      ]
     },
     "execution_count": 29,
     "metadata": {},
     "output_type": "execute_result"
    }
   ],
   "source": [
    "## Get all US data\n",
    "dfTrUS = dfTr[dfTr.Country_Region=='US']\n",
    "dfTrUS = dfTrUS.groupby(['Date','DaysFromStart'])[['ConfirmedCases','Fatalities']].sum().reset_index()\n",
    "dfTrUS.head()\n",
    "\n",
    "dfTe2US = dfTe2[dfTe2.Country_Region=='US']\n",
    "dfTe2US = dfTe2US.groupby(['Date','DaysFromStart'])[['ConfirmedCases','Fatalities']].sum().reset_index()\n",
    "dfTe2US.head()\n",
    "\n",
    "dfTeUS = dfTeWithPred[dfTeWithPred.Country_Region=='US']\n",
    "dfTeUS = dfTeUS.groupby(['Date','DaysFromStart'])[['ConfirmedCases','Fatalities']].sum().reset_index()\n",
    "dfTeUS.head()"
   ]
  },
  {
   "cell_type": "code",
   "execution_count": 30,
   "metadata": {
    "collapsed": false,
    "scrolled": false
   },
   "outputs": [
    {
     "data": {
      "image/png": "[encoded data removed]",
      "text/plain": [
       "<matplotlib.figure.Figure at 0x7fe67a350c50>"
      ]
     },
     "metadata": {},
     "output_type": "display_data"
    }
   ],
   "source": [
    "SelVar = 'ConfirmedCases'\n",
    "#SelVar = 'Fatalities'\n",
    "\n",
    "dfSelTr = dfTrUS\n",
    "xTr = dfSelTr.DaysFromStart\n",
    "yTr = dfSelTr[SelVar]\n",
    "\n",
    "dfSel = dfTe2US\n",
    "xTe2 = dfSel.DaysFromStart\n",
    "yTe2 = dfSel[SelVar]\n",
    "\n",
    "dfSelTe = dfTeUS\n",
    "xTe = dfSelTe.DaysFromStart\n",
    "yTe = dfSelTe[SelVar]\n",
    "\n",
    "fig, ax = plt.subplots(figsize = [16, 8])\n",
    "fig.canvas.draw()\n",
    "\n",
    "ax.xaxis.set_major_locator(plt.MaxNLocator(30))\n",
    "ax.plot(xTr, yTr, linewidth=5, alpha=0.5)\n",
    "ax.plot(xTe2, yTe2, 'g', linewidth=5, alpha=0.5)\n",
    "ax.plot(xTe, yTe, 'r.')\n",
    "#plt.xticks(dfSel.Date.tolist())\n",
    "\n",
    "plt.xticks(rotation=70)\n",
    "plt.show()\n",
    "\n",
    "#dfSelTr.Date.tolist()\n",
    "\n",
    "#a,b = plt.xticks()\n"
   ]
  },
  {
   "cell_type": "markdown",
   "metadata": {},
   "source": [
    "### Evaluate prediction accuracy"
   ]
  },
  {
   "cell_type": "code",
   "execution_count": 34,
   "metadata": {
    "collapsed": false
   },
   "outputs": [
    {
     "data": {
      "text/html": [
       "<div>\n",
       "<table border=\"1\" class=\"dataframe\">\n",
       "  <thead>\n",
       "    <tr style=\"text-align: right;\">\n",
       "      <th></th>\n",
       "      <th>ForecastId</th>\n",
       "      <th>Province_State</th>\n",
       "      <th>Country_Region</th>\n",
       "      <th>Date</th>\n",
       "      <th>Region</th>\n",
       "      <th>DaysFromStart</th>\n",
       "      <th>ConfirmedCases</th>\n",
       "      <th>Fatalities</th>\n",
       "    </tr>\n",
       "  </thead>\n",
       "  <tbody>\n",
       "    <tr>\n",
       "      <th>0</th>\n",
       "      <td>1</td>\n",
       "      <td></td>\n",
       "      <td>Afghanistan</td>\n",
       "      <td>2020-04-02</td>\n",
       "      <td>Afghanistan_</td>\n",
       "      <td>71</td>\n",
       "      <td>226.947047</td>\n",
       "      <td>5.692560</td>\n",
       "    </tr>\n",
       "    <tr>\n",
       "      <th>1</th>\n",
       "      <td>2</td>\n",
       "      <td></td>\n",
       "      <td>Afghanistan</td>\n",
       "      <td>2020-04-03</td>\n",
       "      <td>Afghanistan_</td>\n",
       "      <td>72</td>\n",
       "      <td>252.900046</td>\n",
       "      <td>6.354310</td>\n",
       "    </tr>\n",
       "    <tr>\n",
       "      <th>2</th>\n",
       "      <td>3</td>\n",
       "      <td></td>\n",
       "      <td>Afghanistan</td>\n",
       "      <td>2020-04-04</td>\n",
       "      <td>Afghanistan_</td>\n",
       "      <td>73</td>\n",
       "      <td>280.874786</td>\n",
       "      <td>7.066920</td>\n",
       "    </tr>\n",
       "    <tr>\n",
       "      <th>3</th>\n",
       "      <td>4</td>\n",
       "      <td></td>\n",
       "      <td>Afghanistan</td>\n",
       "      <td>2020-04-05</td>\n",
       "      <td>Afghanistan_</td>\n",
       "      <td>74</td>\n",
       "      <td>310.967384</td>\n",
       "      <td>7.832756</td>\n",
       "    </tr>\n",
       "    <tr>\n",
       "      <th>4</th>\n",
       "      <td>5</td>\n",
       "      <td></td>\n",
       "      <td>Afghanistan</td>\n",
       "      <td>2020-04-06</td>\n",
       "      <td>Afghanistan_</td>\n",
       "      <td>75</td>\n",
       "      <td>343.276073</td>\n",
       "      <td>8.654234</td>\n",
       "    </tr>\n",
       "  </tbody>\n",
       "</table>\n",
       "</div>"
      ],
      "text/plain": [
       "   ForecastId Province_State Country_Region       Date        Region  \\\n",
       "0           1                   Afghanistan 2020-04-02  Afghanistan_   \n",
       "1           2                   Afghanistan 2020-04-03  Afghanistan_   \n",
       "2           3                   Afghanistan 2020-04-04  Afghanistan_   \n",
       "3           4                   Afghanistan 2020-04-05  Afghanistan_   \n",
       "4           5                   Afghanistan 2020-04-06  Afghanistan_   \n",
       "\n",
       "   DaysFromStart  ConfirmedCases  Fatalities  \n",
       "0             71      226.947047    5.692560  \n",
       "1             72      252.900046    6.354310  \n",
       "2             73      280.874786    7.066920  \n",
       "3             74      310.967384    7.832756  \n",
       "4             75      343.276073    8.654234  "
      ]
     },
     "execution_count": 34,
     "metadata": {},
     "output_type": "execute_result"
    }
   ],
   "source": [
    "dfOut = dfTeWithPred[dfTeWithPred.DaysFromStart <= dfTe2.DaysFromStart.max()]\n",
    "dfOut.head()"
   ]
  },
  {
   "cell_type": "code",
   "execution_count": 36,
   "metadata": {
    "collapsed": false
   },
   "outputs": [
    {
     "data": {
      "text/html": [
       "<div>\n",
       "<table border=\"1\" class=\"dataframe\">\n",
       "  <thead>\n",
       "    <tr style=\"text-align: right;\">\n",
       "      <th></th>\n",
       "      <th>Id</th>\n",
       "      <th>Province_State</th>\n",
       "      <th>Country_Region</th>\n",
       "      <th>Date</th>\n",
       "      <th>ConfirmedCases</th>\n",
       "      <th>Fatalities</th>\n",
       "      <th>Region</th>\n",
       "      <th>DaysFromStart</th>\n",
       "    </tr>\n",
       "  </thead>\n",
       "  <tbody>\n",
       "    <tr>\n",
       "      <th>71</th>\n",
       "      <td>72</td>\n",
       "      <td></td>\n",
       "      <td>Afghanistan</td>\n",
       "      <td>2020-04-02</td>\n",
       "      <td>273.0</td>\n",
       "      <td>6.0</td>\n",
       "      <td>Afghanistan_</td>\n",
       "      <td>71</td>\n",
       "    </tr>\n",
       "    <tr>\n",
       "      <th>72</th>\n",
       "      <td>73</td>\n",
       "      <td></td>\n",
       "      <td>Afghanistan</td>\n",
       "      <td>2020-04-03</td>\n",
       "      <td>281.0</td>\n",
       "      <td>6.0</td>\n",
       "      <td>Afghanistan_</td>\n",
       "      <td>72</td>\n",
       "    </tr>\n",
       "    <tr>\n",
       "      <th>73</th>\n",
       "      <td>74</td>\n",
       "      <td></td>\n",
       "      <td>Afghanistan</td>\n",
       "      <td>2020-04-04</td>\n",
       "      <td>299.0</td>\n",
       "      <td>7.0</td>\n",
       "      <td>Afghanistan_</td>\n",
       "      <td>73</td>\n",
       "    </tr>\n",
       "    <tr>\n",
       "      <th>74</th>\n",
       "      <td>75</td>\n",
       "      <td></td>\n",
       "      <td>Afghanistan</td>\n",
       "      <td>2020-04-05</td>\n",
       "      <td>349.0</td>\n",
       "      <td>7.0</td>\n",
       "      <td>Afghanistan_</td>\n",
       "      <td>74</td>\n",
       "    </tr>\n",
       "    <tr>\n",
       "      <th>75</th>\n",
       "      <td>76</td>\n",
       "      <td></td>\n",
       "      <td>Afghanistan</td>\n",
       "      <td>2020-04-06</td>\n",
       "      <td>367.0</td>\n",
       "      <td>11.0</td>\n",
       "      <td>Afghanistan_</td>\n",
       "      <td>75</td>\n",
       "    </tr>\n",
       "  </tbody>\n",
       "</table>\n",
       "</div>"
      ],
      "text/plain": [
       "    Id Province_State Country_Region       Date  ConfirmedCases  Fatalities  \\\n",
       "71  72                   Afghanistan 2020-04-02           273.0         6.0   \n",
       "72  73                   Afghanistan 2020-04-03           281.0         6.0   \n",
       "73  74                   Afghanistan 2020-04-04           299.0         7.0   \n",
       "74  75                   Afghanistan 2020-04-05           349.0         7.0   \n",
       "75  76                   Afghanistan 2020-04-06           367.0        11.0   \n",
       "\n",
       "          Region  DaysFromStart  \n",
       "71  Afghanistan_             71  \n",
       "72  Afghanistan_             72  \n",
       "73  Afghanistan_             73  \n",
       "74  Afghanistan_             74  \n",
       "75  Afghanistan_             75  "
      ]
     },
     "execution_count": 36,
     "metadata": {},
     "output_type": "execute_result"
    }
   ],
   "source": [
    "dfTe2.head()"
   ]
  },
  {
   "cell_type": "code",
   "execution_count": 51,
   "metadata": {
    "collapsed": false
   },
   "outputs": [],
   "source": [
    "dfOut=dfOut[['ForecastId','Region','DaysFromStart','ConfirmedCases','Fatalities']]\n",
    "dfTe2=dfTe2[['Region','DaysFromStart','ConfirmedCases','Fatalities']]\n",
    "dfOut = dfOut.merge(dfTe2, how='outer', left_on=['Region','DaysFromStart'], right_on=['Region','DaysFromStart'], suffixes=['_Pred', ''])\n"
   ]
  },
  {
   "cell_type": "code",
   "execution_count": 50,
   "metadata": {
    "collapsed": false
   },
   "outputs": [
    {
     "data": {
      "text/plain": [
       "Index(['ForecastId', 'Region', 'DaysFromStart', 'ConfirmedCases',\n",
       "       'Fatalities'],\n",
       "      dtype='object')"
      ]
     },
     "execution_count": 50,
     "metadata": {},
     "output_type": "execute_result"
    }
   ],
   "source": [
    "dfOut.columns"
   ]
  },
  {
   "cell_type": "code",
   "execution_count": 55,
   "metadata": {
    "collapsed": false
   },
   "outputs": [
    {
     "data": {
      "text/plain": [
       "0.3920817344619289"
      ]
     },
     "execution_count": 55,
     "metadata": {},
     "output_type": "execute_result"
    }
   ],
   "source": [
    "rmsleCC = np.sqrt((np.square(np.log(dfOut['ConfirmedCases_Pred'] + 1) - np.log(dfOut.ConfirmedCases + 1))).mean())\n",
    "rmsleCC"
   ]
  },
  {
   "cell_type": "code",
   "execution_count": 56,
   "metadata": {
    "collapsed": false
   },
   "outputs": [
    {
     "data": {
      "text/plain": [
       "0.44029033972257869"
      ]
     },
     "execution_count": 56,
     "metadata": {},
     "output_type": "execute_result"
    }
   ],
   "source": [
    "rmsleFAT = np.sqrt((np.square(np.log(dfOut['Fatalities_Pred'] + 1) - np.log(dfOut.Fatalities + 1))).mean())\n",
    "rmsleFAT"
   ]
  },
  {
   "cell_type": "code",
   "execution_count": 59,
   "metadata": {
    "collapsed": false
   },
   "outputs": [
    {
     "data": {
      "text/plain": [
       "0.41618603709225377"
      ]
     },
     "execution_count": 59,
     "metadata": {},
     "output_type": "execute_result"
    }
   ],
   "source": [
    "np.mean([rmsleCC, rmsleFAT])"
   ]
  }
 ],
 "metadata": {
  "kernelspec": {
   "display_name": "Python 3",
   "language": "python",
   "name": "python3"
  },
  "language_info": {
   "codemirror_mode": {
    "name": "ipython",
    "version": 3
   },
   "file_extension": ".py",
   "mimetype": "text/x-python",
   "name": "python",
   "nbconvert_exporter": "python",
   "pygments_lexer": "ipython3",
   "version": "3.6.0"
  }
 },
 "nbformat": 4,
 "nbformat_minor": 2
}
