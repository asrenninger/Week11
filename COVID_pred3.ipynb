{
 "cells": [
  {
   "cell_type": "markdown",
   "metadata": {},
   "source": [
    "### COVID-19 Prediction Week4 - Non-overlapping data\n",
    "\n",
    "https://www.kaggle.com/c/covid19-global-forecasting-week-4"
   ]
  },
  {
   "cell_type": "code",
   "execution_count": 1,
   "metadata": {
    "collapsed": true
   },
   "outputs": [],
   "source": [
    "import numpy as np\n",
    "import pandas as pd\n",
    "import warnings\n",
    "warnings.filterwarnings(\"ignore\")\n"
   ]
  },
  {
   "cell_type": "markdown",
   "metadata": {},
   "source": [
    "#### Read and organize the data"
   ]
  },
  {
   "cell_type": "code",
   "execution_count": 2,
   "metadata": {
    "collapsed": false
   },
   "outputs": [
    {
     "data": {
      "text/html": [
       "<div>\n",
       "<table border=\"1\" class=\"dataframe\">\n",
       "  <thead>\n",
       "    <tr style=\"text-align: right;\">\n",
       "      <th></th>\n",
       "      <th>Id</th>\n",
       "      <th>Province_State</th>\n",
       "      <th>Country_Region</th>\n",
       "      <th>Date</th>\n",
       "      <th>ConfirmedCases</th>\n",
       "      <th>Fatalities</th>\n",
       "      <th>Region</th>\n",
       "    </tr>\n",
       "  </thead>\n",
       "  <tbody>\n",
       "    <tr>\n",
       "      <th>0</th>\n",
       "      <td>1</td>\n",
       "      <td></td>\n",
       "      <td>Afghanistan</td>\n",
       "      <td>2020-01-22</td>\n",
       "      <td>0.0</td>\n",
       "      <td>0.0</td>\n",
       "      <td>Afghanistan_</td>\n",
       "    </tr>\n",
       "    <tr>\n",
       "      <th>1</th>\n",
       "      <td>2</td>\n",
       "      <td></td>\n",
       "      <td>Afghanistan</td>\n",
       "      <td>2020-01-23</td>\n",
       "      <td>0.0</td>\n",
       "      <td>0.0</td>\n",
       "      <td>Afghanistan_</td>\n",
       "    </tr>\n",
       "    <tr>\n",
       "      <th>2</th>\n",
       "      <td>3</td>\n",
       "      <td></td>\n",
       "      <td>Afghanistan</td>\n",
       "      <td>2020-01-24</td>\n",
       "      <td>0.0</td>\n",
       "      <td>0.0</td>\n",
       "      <td>Afghanistan_</td>\n",
       "    </tr>\n",
       "    <tr>\n",
       "      <th>3</th>\n",
       "      <td>4</td>\n",
       "      <td></td>\n",
       "      <td>Afghanistan</td>\n",
       "      <td>2020-01-25</td>\n",
       "      <td>0.0</td>\n",
       "      <td>0.0</td>\n",
       "      <td>Afghanistan_</td>\n",
       "    </tr>\n",
       "    <tr>\n",
       "      <th>4</th>\n",
       "      <td>5</td>\n",
       "      <td></td>\n",
       "      <td>Afghanistan</td>\n",
       "      <td>2020-01-26</td>\n",
       "      <td>0.0</td>\n",
       "      <td>0.0</td>\n",
       "      <td>Afghanistan_</td>\n",
       "    </tr>\n",
       "  </tbody>\n",
       "</table>\n",
       "</div>"
      ],
      "text/plain": [
       "   Id Province_State Country_Region       Date  ConfirmedCases  Fatalities  \\\n",
       "0   1                   Afghanistan 2020-01-22             0.0         0.0   \n",
       "1   2                   Afghanistan 2020-01-23             0.0         0.0   \n",
       "2   3                   Afghanistan 2020-01-24             0.0         0.0   \n",
       "3   4                   Afghanistan 2020-01-25             0.0         0.0   \n",
       "4   5                   Afghanistan 2020-01-26             0.0         0.0   \n",
       "\n",
       "         Region  \n",
       "0  Afghanistan_  \n",
       "1  Afghanistan_  \n",
       "2  Afghanistan_  \n",
       "3  Afghanistan_  \n",
       "4  Afghanistan_  "
      ]
     },
     "execution_count": 2,
     "metadata": {},
     "output_type": "execute_result"
    }
   ],
   "source": [
    "dfTr = pd.read_csv(\"../Data/train.csv\", parse_dates=['Date'])\n",
    "dfTe = pd.read_csv(\"../Data/test.csv\", parse_dates=['Date'])\n",
    "\n",
    "dfTr[\"Province_State\"] = dfTr[\"Province_State\"].fillna('')\n",
    "dfTe[\"Province_State\"] = dfTe[\"Province_State\"].fillna('')\n",
    "\n",
    "dfTr[\"Region\"] = dfTr.Country_Region + '_' + dfTr.Province_State\n",
    "dfTe[\"Region\"] = dfTe.Country_Region + '_' + dfTe.Province_State\n",
    "\n",
    "dfOut = dfTe.copy()\n",
    "\n",
    "dfTr.head()"
   ]
  },
  {
   "cell_type": "code",
   "execution_count": 3,
   "metadata": {
    "collapsed": false
   },
   "outputs": [
    {
     "data": {
      "text/plain": [
       "(13459, 2)"
      ]
     },
     "execution_count": 3,
     "metadata": {},
     "output_type": "execute_result"
    }
   ],
   "source": [
    "dfTe.iloc[:,3:5].shape"
   ]
  },
  {
   "cell_type": "code",
   "execution_count": 4,
   "metadata": {
    "collapsed": false
   },
   "outputs": [],
   "source": [
    "stDate = pd.to_datetime(dfTr.Date.min())\n",
    "\n",
    "dfTr['DaysFromStart'] = (pd.to_datetime(dfTr.Date) - stDate).dt.days\n",
    "dfTe['DaysFromStart'] = (pd.to_datetime(dfTe.Date) - stDate).dt.days\n"
   ]
  },
  {
   "cell_type": "code",
   "execution_count": 5,
   "metadata": {
    "collapsed": false
   },
   "outputs": [
    {
     "data": {
      "text/html": [
       "<div>\n",
       "<table border=\"1\" class=\"dataframe\">\n",
       "  <thead>\n",
       "    <tr style=\"text-align: right;\">\n",
       "      <th></th>\n",
       "      <th>Id</th>\n",
       "      <th>Province_State</th>\n",
       "      <th>Country_Region</th>\n",
       "      <th>Date</th>\n",
       "      <th>ConfirmedCases</th>\n",
       "      <th>Fatalities</th>\n",
       "      <th>Region</th>\n",
       "      <th>DaysFromStart</th>\n",
       "    </tr>\n",
       "  </thead>\n",
       "  <tbody>\n",
       "    <tr>\n",
       "      <th>0</th>\n",
       "      <td>1</td>\n",
       "      <td></td>\n",
       "      <td>Afghanistan</td>\n",
       "      <td>2020-01-22</td>\n",
       "      <td>0.0</td>\n",
       "      <td>0.0</td>\n",
       "      <td>Afghanistan_</td>\n",
       "      <td>0</td>\n",
       "    </tr>\n",
       "    <tr>\n",
       "      <th>1</th>\n",
       "      <td>2</td>\n",
       "      <td></td>\n",
       "      <td>Afghanistan</td>\n",
       "      <td>2020-01-23</td>\n",
       "      <td>0.0</td>\n",
       "      <td>0.0</td>\n",
       "      <td>Afghanistan_</td>\n",
       "      <td>1</td>\n",
       "    </tr>\n",
       "    <tr>\n",
       "      <th>2</th>\n",
       "      <td>3</td>\n",
       "      <td></td>\n",
       "      <td>Afghanistan</td>\n",
       "      <td>2020-01-24</td>\n",
       "      <td>0.0</td>\n",
       "      <td>0.0</td>\n",
       "      <td>Afghanistan_</td>\n",
       "      <td>2</td>\n",
       "    </tr>\n",
       "    <tr>\n",
       "      <th>3</th>\n",
       "      <td>4</td>\n",
       "      <td></td>\n",
       "      <td>Afghanistan</td>\n",
       "      <td>2020-01-25</td>\n",
       "      <td>0.0</td>\n",
       "      <td>0.0</td>\n",
       "      <td>Afghanistan_</td>\n",
       "      <td>3</td>\n",
       "    </tr>\n",
       "    <tr>\n",
       "      <th>4</th>\n",
       "      <td>5</td>\n",
       "      <td></td>\n",
       "      <td>Afghanistan</td>\n",
       "      <td>2020-01-26</td>\n",
       "      <td>0.0</td>\n",
       "      <td>0.0</td>\n",
       "      <td>Afghanistan_</td>\n",
       "      <td>4</td>\n",
       "    </tr>\n",
       "  </tbody>\n",
       "</table>\n",
       "</div>"
      ],
      "text/plain": [
       "   Id Province_State Country_Region       Date  ConfirmedCases  Fatalities  \\\n",
       "0   1                   Afghanistan 2020-01-22             0.0         0.0   \n",
       "1   2                   Afghanistan 2020-01-23             0.0         0.0   \n",
       "2   3                   Afghanistan 2020-01-24             0.0         0.0   \n",
       "3   4                   Afghanistan 2020-01-25             0.0         0.0   \n",
       "4   5                   Afghanistan 2020-01-26             0.0         0.0   \n",
       "\n",
       "         Region  DaysFromStart  \n",
       "0  Afghanistan_              0  \n",
       "1  Afghanistan_              1  \n",
       "2  Afghanistan_              2  \n",
       "3  Afghanistan_              3  \n",
       "4  Afghanistan_              4  "
      ]
     },
     "execution_count": 5,
     "metadata": {},
     "output_type": "execute_result"
    }
   ],
   "source": [
    "dfTr.head()"
   ]
  },
  {
   "cell_type": "code",
   "execution_count": 6,
   "metadata": {
    "collapsed": false
   },
   "outputs": [
    {
     "data": {
      "text/plain": [
       "(313,)"
      ]
     },
     "execution_count": 6,
     "metadata": {},
     "output_type": "execute_result"
    }
   ],
   "source": [
    "dfTr.Region = dfTr.Region.str.replace('*','')\n",
    "dfTe.Region = dfTe.Region.str.replace('*','')\n",
    "\n",
    "RegUniq = np.unique(dfTr.Region)\n",
    "RegUniq.shape"
   ]
  },
  {
   "cell_type": "markdown",
   "metadata": {},
   "source": [
    "#### Plot day stats"
   ]
  },
  {
   "cell_type": "code",
   "execution_count": 7,
   "metadata": {
    "collapsed": false
   },
   "outputs": [
    {
     "data": {
      "image/png": "[encoded data removed]",
      "text/plain": [
       "<matplotlib.figure.Figure at 0x7f8d40200358>"
      ]
     },
     "metadata": {},
     "output_type": "display_data"
    }
   ],
   "source": [
    "import matplotlib.pyplot as plt\n",
    "import random\n",
    "numReg = 5\n",
    "\n",
    "selReg = random.choices(RegUniq, k=numReg)\n",
    "dfTmp = dfTr[dfTr.Region.isin(selReg)]\n",
    "selReg\n",
    "fig = plt.figure()\n",
    "ax = fig.add_subplot(111)\n",
    "\n",
    "lines = dfTmp.groupby('Region').plot(x='DaysFromStart', y='ConfirmedCases', ax=ax)\n",
    "ax.legend(selReg, loc='best')\n",
    "plt.show()"
   ]
  },
  {
   "cell_type": "markdown",
   "metadata": {},
   "source": [
    "### Make train/test sets"
   ]
  },
  {
   "cell_type": "code",
   "execution_count": 8,
   "metadata": {
    "collapsed": false
   },
   "outputs": [
    {
     "name": "stdout",
     "output_type": "stream",
     "text": [
      "Train dates : 0 to 80\n",
      "Test dates : 71 to 113\n",
      "\n",
      "Train dates : 2020-01-22 00:00:00 to 2020-04-11 00:00:00\n",
      "Test dates : 2020-04-02 00:00:00 to 2020-05-14 00:00:00\n"
     ]
    }
   ],
   "source": [
    "print('Train dates : ' + str(dfTr.DaysFromStart.min()) + ' to ' + str(dfTr.DaysFromStart.max()))\n",
    "print('Test dates : ' + str(dfTe.DaysFromStart.min()) + ' to ' + str(dfTe.DaysFromStart.max()))\n",
    "print('')\n",
    "print('Train dates : ' + str(dfTr.Date.min()) + ' to ' + str(dfTr.Date.max()))\n",
    "print('Test dates : ' + str(dfTe.Date.min()) + ' to ' + str(dfTe.Date.max()))"
   ]
  },
  {
   "cell_type": "code",
   "execution_count": 9,
   "metadata": {
    "collapsed": false
   },
   "outputs": [
    {
     "data": {
      "text/html": [
       "<div>\n",
       "<table border=\"1\" class=\"dataframe\">\n",
       "  <thead>\n",
       "    <tr style=\"text-align: right;\">\n",
       "      <th></th>\n",
       "      <th>Id</th>\n",
       "      <th>Province_State</th>\n",
       "      <th>Country_Region</th>\n",
       "      <th>Date</th>\n",
       "      <th>ConfirmedCases</th>\n",
       "      <th>Fatalities</th>\n",
       "      <th>Region</th>\n",
       "      <th>DaysFromStart</th>\n",
       "    </tr>\n",
       "  </thead>\n",
       "  <tbody>\n",
       "    <tr>\n",
       "      <th>0</th>\n",
       "      <td>1</td>\n",
       "      <td></td>\n",
       "      <td>Afghanistan</td>\n",
       "      <td>2020-01-22</td>\n",
       "      <td>0.0</td>\n",
       "      <td>0.0</td>\n",
       "      <td>Afghanistan_</td>\n",
       "      <td>0</td>\n",
       "    </tr>\n",
       "    <tr>\n",
       "      <th>1</th>\n",
       "      <td>2</td>\n",
       "      <td></td>\n",
       "      <td>Afghanistan</td>\n",
       "      <td>2020-01-23</td>\n",
       "      <td>0.0</td>\n",
       "      <td>0.0</td>\n",
       "      <td>Afghanistan_</td>\n",
       "      <td>1</td>\n",
       "    </tr>\n",
       "    <tr>\n",
       "      <th>2</th>\n",
       "      <td>3</td>\n",
       "      <td></td>\n",
       "      <td>Afghanistan</td>\n",
       "      <td>2020-01-24</td>\n",
       "      <td>0.0</td>\n",
       "      <td>0.0</td>\n",
       "      <td>Afghanistan_</td>\n",
       "      <td>2</td>\n",
       "    </tr>\n",
       "    <tr>\n",
       "      <th>3</th>\n",
       "      <td>4</td>\n",
       "      <td></td>\n",
       "      <td>Afghanistan</td>\n",
       "      <td>2020-01-25</td>\n",
       "      <td>0.0</td>\n",
       "      <td>0.0</td>\n",
       "      <td>Afghanistan_</td>\n",
       "      <td>3</td>\n",
       "    </tr>\n",
       "    <tr>\n",
       "      <th>4</th>\n",
       "      <td>5</td>\n",
       "      <td></td>\n",
       "      <td>Afghanistan</td>\n",
       "      <td>2020-01-26</td>\n",
       "      <td>0.0</td>\n",
       "      <td>0.0</td>\n",
       "      <td>Afghanistan_</td>\n",
       "      <td>4</td>\n",
       "    </tr>\n",
       "  </tbody>\n",
       "</table>\n",
       "</div>"
      ],
      "text/plain": [
       "   Id Province_State Country_Region       Date  ConfirmedCases  Fatalities  \\\n",
       "0   1                   Afghanistan 2020-01-22             0.0         0.0   \n",
       "1   2                   Afghanistan 2020-01-23             0.0         0.0   \n",
       "2   3                   Afghanistan 2020-01-24             0.0         0.0   \n",
       "3   4                   Afghanistan 2020-01-25             0.0         0.0   \n",
       "4   5                   Afghanistan 2020-01-26             0.0         0.0   \n",
       "\n",
       "         Region  DaysFromStart  \n",
       "0  Afghanistan_              0  \n",
       "1  Afghanistan_              1  \n",
       "2  Afghanistan_              2  \n",
       "3  Afghanistan_              3  \n",
       "4  Afghanistan_              4  "
      ]
     },
     "execution_count": 9,
     "metadata": {},
     "output_type": "execute_result"
    }
   ],
   "source": [
    "dfTr.head()"
   ]
  },
  {
   "cell_type": "code",
   "execution_count": 10,
   "metadata": {
    "collapsed": false
   },
   "outputs": [
    {
     "data": {
      "text/html": [
       "<div>\n",
       "<table border=\"1\" class=\"dataframe\">\n",
       "  <thead>\n",
       "    <tr style=\"text-align: right;\">\n",
       "      <th>DaysFromStart</th>\n",
       "      <th>0</th>\n",
       "      <th>1</th>\n",
       "      <th>2</th>\n",
       "      <th>3</th>\n",
       "      <th>4</th>\n",
       "      <th>5</th>\n",
       "      <th>6</th>\n",
       "      <th>7</th>\n",
       "      <th>8</th>\n",
       "      <th>9</th>\n",
       "      <th>...</th>\n",
       "      <th>71</th>\n",
       "      <th>72</th>\n",
       "      <th>73</th>\n",
       "      <th>74</th>\n",
       "      <th>75</th>\n",
       "      <th>76</th>\n",
       "      <th>77</th>\n",
       "      <th>78</th>\n",
       "      <th>79</th>\n",
       "      <th>80</th>\n",
       "    </tr>\n",
       "    <tr>\n",
       "      <th>Region</th>\n",
       "      <th></th>\n",
       "      <th></th>\n",
       "      <th></th>\n",
       "      <th></th>\n",
       "      <th></th>\n",
       "      <th></th>\n",
       "      <th></th>\n",
       "      <th></th>\n",
       "      <th></th>\n",
       "      <th></th>\n",
       "      <th></th>\n",
       "      <th></th>\n",
       "      <th></th>\n",
       "      <th></th>\n",
       "      <th></th>\n",
       "      <th></th>\n",
       "      <th></th>\n",
       "      <th></th>\n",
       "      <th></th>\n",
       "      <th></th>\n",
       "      <th></th>\n",
       "    </tr>\n",
       "  </thead>\n",
       "  <tbody>\n",
       "    <tr>\n",
       "      <th>Afghanistan_</th>\n",
       "      <td>0.0</td>\n",
       "      <td>0.0</td>\n",
       "      <td>0.0</td>\n",
       "      <td>0.0</td>\n",
       "      <td>0.0</td>\n",
       "      <td>0.0</td>\n",
       "      <td>0.0</td>\n",
       "      <td>0.0</td>\n",
       "      <td>0.0</td>\n",
       "      <td>0.0</td>\n",
       "      <td>...</td>\n",
       "      <td>273.0</td>\n",
       "      <td>281.0</td>\n",
       "      <td>299.0</td>\n",
       "      <td>349.0</td>\n",
       "      <td>367.0</td>\n",
       "      <td>423.0</td>\n",
       "      <td>444.0</td>\n",
       "      <td>484.0</td>\n",
       "      <td>521.0</td>\n",
       "      <td>555.0</td>\n",
       "    </tr>\n",
       "    <tr>\n",
       "      <th>Albania_</th>\n",
       "      <td>0.0</td>\n",
       "      <td>0.0</td>\n",
       "      <td>0.0</td>\n",
       "      <td>0.0</td>\n",
       "      <td>0.0</td>\n",
       "      <td>0.0</td>\n",
       "      <td>0.0</td>\n",
       "      <td>0.0</td>\n",
       "      <td>0.0</td>\n",
       "      <td>0.0</td>\n",
       "      <td>...</td>\n",
       "      <td>277.0</td>\n",
       "      <td>304.0</td>\n",
       "      <td>333.0</td>\n",
       "      <td>361.0</td>\n",
       "      <td>377.0</td>\n",
       "      <td>383.0</td>\n",
       "      <td>400.0</td>\n",
       "      <td>409.0</td>\n",
       "      <td>416.0</td>\n",
       "      <td>433.0</td>\n",
       "    </tr>\n",
       "    <tr>\n",
       "      <th>Algeria_</th>\n",
       "      <td>0.0</td>\n",
       "      <td>0.0</td>\n",
       "      <td>0.0</td>\n",
       "      <td>0.0</td>\n",
       "      <td>0.0</td>\n",
       "      <td>0.0</td>\n",
       "      <td>0.0</td>\n",
       "      <td>0.0</td>\n",
       "      <td>0.0</td>\n",
       "      <td>0.0</td>\n",
       "      <td>...</td>\n",
       "      <td>986.0</td>\n",
       "      <td>1171.0</td>\n",
       "      <td>1251.0</td>\n",
       "      <td>1320.0</td>\n",
       "      <td>1423.0</td>\n",
       "      <td>1468.0</td>\n",
       "      <td>1572.0</td>\n",
       "      <td>1666.0</td>\n",
       "      <td>1761.0</td>\n",
       "      <td>1825.0</td>\n",
       "    </tr>\n",
       "    <tr>\n",
       "      <th>Andorra_</th>\n",
       "      <td>0.0</td>\n",
       "      <td>0.0</td>\n",
       "      <td>0.0</td>\n",
       "      <td>0.0</td>\n",
       "      <td>0.0</td>\n",
       "      <td>0.0</td>\n",
       "      <td>0.0</td>\n",
       "      <td>0.0</td>\n",
       "      <td>0.0</td>\n",
       "      <td>0.0</td>\n",
       "      <td>...</td>\n",
       "      <td>428.0</td>\n",
       "      <td>439.0</td>\n",
       "      <td>466.0</td>\n",
       "      <td>501.0</td>\n",
       "      <td>525.0</td>\n",
       "      <td>545.0</td>\n",
       "      <td>564.0</td>\n",
       "      <td>583.0</td>\n",
       "      <td>601.0</td>\n",
       "      <td>601.0</td>\n",
       "    </tr>\n",
       "    <tr>\n",
       "      <th>Angola_</th>\n",
       "      <td>0.0</td>\n",
       "      <td>0.0</td>\n",
       "      <td>0.0</td>\n",
       "      <td>0.0</td>\n",
       "      <td>0.0</td>\n",
       "      <td>0.0</td>\n",
       "      <td>0.0</td>\n",
       "      <td>0.0</td>\n",
       "      <td>0.0</td>\n",
       "      <td>0.0</td>\n",
       "      <td>...</td>\n",
       "      <td>8.0</td>\n",
       "      <td>8.0</td>\n",
       "      <td>10.0</td>\n",
       "      <td>14.0</td>\n",
       "      <td>16.0</td>\n",
       "      <td>17.0</td>\n",
       "      <td>19.0</td>\n",
       "      <td>19.0</td>\n",
       "      <td>19.0</td>\n",
       "      <td>19.0</td>\n",
       "    </tr>\n",
       "  </tbody>\n",
       "</table>\n",
       "<p>5 rows × 81 columns</p>\n",
       "</div>"
      ],
      "text/plain": [
       "DaysFromStart   0    1    2    3    4    5    6    7    8    9    ...    \\\n",
       "Region                                                            ...     \n",
       "Afghanistan_   0.0  0.0  0.0  0.0  0.0  0.0  0.0  0.0  0.0  0.0   ...     \n",
       "Albania_       0.0  0.0  0.0  0.0  0.0  0.0  0.0  0.0  0.0  0.0   ...     \n",
       "Algeria_       0.0  0.0  0.0  0.0  0.0  0.0  0.0  0.0  0.0  0.0   ...     \n",
       "Andorra_       0.0  0.0  0.0  0.0  0.0  0.0  0.0  0.0  0.0  0.0   ...     \n",
       "Angola_        0.0  0.0  0.0  0.0  0.0  0.0  0.0  0.0  0.0  0.0   ...     \n",
       "\n",
       "DaysFromStart     71      72      73      74      75      76      77      78  \\\n",
       "Region                                                                         \n",
       "Afghanistan_   273.0   281.0   299.0   349.0   367.0   423.0   444.0   484.0   \n",
       "Albania_       277.0   304.0   333.0   361.0   377.0   383.0   400.0   409.0   \n",
       "Algeria_       986.0  1171.0  1251.0  1320.0  1423.0  1468.0  1572.0  1666.0   \n",
       "Andorra_       428.0   439.0   466.0   501.0   525.0   545.0   564.0   583.0   \n",
       "Angola_          8.0     8.0    10.0    14.0    16.0    17.0    19.0    19.0   \n",
       "\n",
       "DaysFromStart      79      80  \n",
       "Region                         \n",
       "Afghanistan_    521.0   555.0  \n",
       "Albania_        416.0   433.0  \n",
       "Algeria_       1761.0  1825.0  \n",
       "Andorra_        601.0   601.0  \n",
       "Angola_          19.0    19.0  \n",
       "\n",
       "[5 rows x 81 columns]"
      ]
     },
     "execution_count": 10,
     "metadata": {},
     "output_type": "execute_result"
    }
   ],
   "source": [
    "## Rotate the datframe \n",
    "dfTr2 = dfTr.pivot(index='Region', columns='DaysFromStart', values='ConfirmedCases')\n",
    "dfTr2.head()"
   ]
  },
  {
   "cell_type": "code",
   "execution_count": 11,
   "metadata": {
    "collapsed": false
   },
   "outputs": [
    {
     "data": {
      "text/plain": [
       "(313, 81)"
      ]
     },
     "execution_count": 11,
     "metadata": {},
     "output_type": "execute_result"
    }
   ],
   "source": [
    "dataMat = np.array(dfTr2)\n",
    "dataMat.shape"
   ]
  },
  {
   "cell_type": "code",
   "execution_count": 22,
   "metadata": {
    "collapsed": false
   },
   "outputs": [],
   "source": [
    "from sklearn.model_selection import train_test_split\n",
    "\n",
    "X = dataMat[:,0:71]\n",
    "Y = dataMat[:,71:]\n",
    "\n",
    "X_train, X_test, Y_train, Y_test = train_test_split(X, Y, test_size=0.4, random_state=42)\n"
   ]
  },
  {
   "cell_type": "code",
   "execution_count": 30,
   "metadata": {
    "collapsed": false
   },
   "outputs": [
    {
     "data": {
      "text/plain": [
       "(187, 10)"
      ]
     },
     "execution_count": 30,
     "metadata": {},
     "output_type": "execute_result"
    }
   ],
   "source": [
    "Y_train.shape"
   ]
  },
  {
   "cell_type": "markdown",
   "metadata": {},
   "source": [
    "#### DL model"
   ]
  },
  {
   "cell_type": "code",
   "execution_count": 32,
   "metadata": {
    "collapsed": false
   },
   "outputs": [
    {
     "ename": "ModuleNotFoundError",
     "evalue": "No module named 'keras'",
     "output_type": "error",
     "traceback": [
      "\u001b[0;31m---------------------------------------------------------------------------\u001b[0m",
      "\u001b[0;31mModuleNotFoundError\u001b[0m                       Traceback (most recent call last)",
      "\u001b[0;32m<ipython-input-32-b42c56dde437>\u001b[0m in \u001b[0;36m<module>\u001b[0;34m()\u001b[0m\n\u001b[1;32m      5\u001b[0m \u001b[0;32mfrom\u001b[0m \u001b[0m__future__\u001b[0m \u001b[0;32mimport\u001b[0m \u001b[0mprint_function\u001b[0m\u001b[0;34m\u001b[0m\u001b[0m\n\u001b[1;32m      6\u001b[0m \u001b[0;34m\u001b[0m\u001b[0m\n\u001b[0;32m----> 7\u001b[0;31m \u001b[0;32mfrom\u001b[0m \u001b[0mkeras\u001b[0m\u001b[0;34m.\u001b[0m\u001b[0mdatasets\u001b[0m \u001b[0;32mimport\u001b[0m \u001b[0mmnist\u001b[0m\u001b[0;34m\u001b[0m\u001b[0m\n\u001b[0m\u001b[1;32m      8\u001b[0m \u001b[0;32mfrom\u001b[0m \u001b[0mkeras\u001b[0m\u001b[0;34m.\u001b[0m\u001b[0mmodels\u001b[0m \u001b[0;32mimport\u001b[0m \u001b[0mSequential\u001b[0m\u001b[0;34m\u001b[0m\u001b[0m\n\u001b[1;32m      9\u001b[0m \u001b[0;32mfrom\u001b[0m \u001b[0mkeras\u001b[0m\u001b[0;34m.\u001b[0m\u001b[0mlayers\u001b[0m \u001b[0;32mimport\u001b[0m \u001b[0mDense\u001b[0m\u001b[0;34m,\u001b[0m \u001b[0mDropout\u001b[0m\u001b[0;34m\u001b[0m\u001b[0m\n",
      "\u001b[0;31mModuleNotFoundError\u001b[0m: No module named 'keras'"
     ]
    }
   ],
   "source": [
    "from sklearn.preprocessing import PolynomialFeatures\n",
    "from sklearn.linear_model import LinearRegression\n",
    "from sklearn.preprocessing import StandardScaler\n",
    "\n",
    "from __future__ import print_function\n",
    "\n",
    "import keras\n",
    "from keras.datasets import mnist\n",
    "from keras.models import Sequential\n",
    "from keras.layers import Dense, Dropout\n",
    "from keras.optimizers import RMSprop\n"
   ]
  },
  {
   "cell_type": "code",
   "execution_count": null,
   "metadata": {
    "collapsed": false
   },
   "outputs": [],
   "source": [
    "## Show predictions\n",
    "dfTeWithPred.head()"
   ]
  },
  {
   "cell_type": "code",
   "execution_count": null,
   "metadata": {
    "collapsed": false
   },
   "outputs": [],
   "source": [
    "## Prepare submission file\n",
    "dfOut = dfTeWithPred[['ForecastId', 'ConfirmedCases', 'Fatalities']].round().astype(int)\n",
    "dfOut.head()"
   ]
  },
  {
   "cell_type": "markdown",
   "metadata": {},
   "source": [
    "### Show predictions"
   ]
  },
  {
   "cell_type": "code",
   "execution_count": null,
   "metadata": {
    "collapsed": false
   },
   "outputs": [],
   "source": [
    "## Show predictions\n",
    "\n",
    "print(tmpReg)\n",
    "\n",
    "fig, ax = plt.subplots(figsize = [16, 8])\n",
    "\n",
    "plt.plot(XTr, yccTr, linewidth = 4, alpha=0.5)\n",
    "plt.plot(XTe, predCC, 'g.')\n",
    "plt.show()\n"
   ]
  },
  {
   "cell_type": "markdown",
   "metadata": {},
   "source": [
    "### Show predictions"
   ]
  },
  {
   "cell_type": "code",
   "execution_count": null,
   "metadata": {
    "collapsed": false,
    "scrolled": false
   },
   "outputs": [],
   "source": [
    "## Show predictions\n",
    "\n",
    "SelReg = 'Sweden_'\n",
    "#SelReg = 'Italy_'\n",
    "#SelReg = 'US_Pennsylvania'\n",
    "SelVar = 'ConfirmedCases'\n",
    "#SelVar = 'Fatalities'\n",
    "\n",
    "dfSel = dfTr[dfTr.Region == SelReg]\n",
    "xTr = dfSel.DaysFromStart\n",
    "yTr = dfSel[SelVar]\n",
    "\n",
    "dfSel = dfTe2[dfTe2.Region == SelReg]\n",
    "xTe2 = dfSel.DaysFromStart\n",
    "yTe2 = dfSel[SelVar]\n",
    "\n",
    "dfSel = dfTeWithPred[dfTeWithPred.Region == SelReg]\n",
    "xTe = dfSel.DaysFromStart\n",
    "yTe = dfSel[SelVar]\n",
    "\n",
    "fig, ax = plt.subplots(figsize = [16, 8])\n",
    "fig.canvas.draw()\n",
    "\n",
    "ax.xaxis.set_major_locator(plt.MaxNLocator(30))\n",
    "ax.plot(xTr, yTr, linewidth=5, alpha=0.5)\n",
    "ax.plot(xTe2, yTe2, 'g', linewidth=5, alpha=0.5)\n",
    "ax.plot(xTe, yTe, 'r.')\n",
    "\n",
    "plt.xticks(rotation=10)\n",
    "plt.show()\n"
   ]
  },
  {
   "cell_type": "markdown",
   "metadata": {},
   "source": [
    "### Show US predictions"
   ]
  },
  {
   "cell_type": "code",
   "execution_count": null,
   "metadata": {
    "collapsed": false
   },
   "outputs": [],
   "source": [
    "dfTr[dfTr.Region.str.contains('US_')].Region.unique()"
   ]
  },
  {
   "cell_type": "code",
   "execution_count": null,
   "metadata": {
    "collapsed": false
   },
   "outputs": [],
   "source": [
    "## Get all US data\n",
    "dfTrUS = dfTr[dfTr.Country_Region=='US']\n",
    "dfTrUS = dfTrUS.groupby(['Date','DaysFromStart'])[['ConfirmedCases','Fatalities']].sum().reset_index()\n",
    "dfTrUS.head()\n",
    "\n",
    "dfTe2US = dfTe2[dfTe2.Country_Region=='US']\n",
    "dfTe2US = dfTe2US.groupby(['Date','DaysFromStart'])[['ConfirmedCases','Fatalities']].sum().reset_index()\n",
    "dfTe2US.head()\n",
    "\n",
    "dfTeUS = dfTeWithPred[dfTeWithPred.Country_Region=='US']\n",
    "dfTeUS = dfTeUS.groupby(['Date','DaysFromStart'])[['ConfirmedCases','Fatalities']].sum().reset_index()\n",
    "dfTeUS.head()"
   ]
  },
  {
   "cell_type": "code",
   "execution_count": null,
   "metadata": {
    "collapsed": false,
    "scrolled": false
   },
   "outputs": [],
   "source": [
    "SelVar = 'ConfirmedCases'\n",
    "#SelVar = 'Fatalities'\n",
    "\n",
    "dfSelTr = dfTrUS\n",
    "xTr = dfSelTr.DaysFromStart\n",
    "yTr = dfSelTr[SelVar]\n",
    "\n",
    "dfSel = dfTe2US\n",
    "xTe2 = dfSel.DaysFromStart\n",
    "yTe2 = dfSel[SelVar]\n",
    "\n",
    "dfSelTe = dfTeUS\n",
    "xTe = dfSelTe.DaysFromStart\n",
    "yTe = dfSelTe[SelVar]\n",
    "\n",
    "fig, ax = plt.subplots(figsize = [16, 8])\n",
    "fig.canvas.draw()\n",
    "\n",
    "ax.xaxis.set_major_locator(plt.MaxNLocator(30))\n",
    "ax.plot(xTr, yTr, linewidth=5, alpha=0.5)\n",
    "ax.plot(xTe2, yTe2, 'g', linewidth=5, alpha=0.5)\n",
    "ax.plot(xTe, yTe, 'r.')\n",
    "#plt.xticks(dfSel.Date.tolist())\n",
    "\n",
    "plt.xticks(rotation=70)\n",
    "plt.show()\n",
    "\n",
    "#dfSelTr.Date.tolist()\n",
    "\n",
    "#a,b = plt.xticks()\n"
   ]
  },
  {
   "cell_type": "markdown",
   "metadata": {},
   "source": [
    "### Evaluate prediction accuracy"
   ]
  },
  {
   "cell_type": "code",
   "execution_count": null,
   "metadata": {
    "collapsed": false
   },
   "outputs": [],
   "source": [
    "dfOut = dfTeWithPred[dfTeWithPred.DaysFromStart <= dfTe2.DaysFromStart.max()]\n",
    "dfOut.head()"
   ]
  },
  {
   "cell_type": "code",
   "execution_count": null,
   "metadata": {
    "collapsed": false
   },
   "outputs": [],
   "source": [
    "dfTe2.head()"
   ]
  },
  {
   "cell_type": "code",
   "execution_count": null,
   "metadata": {
    "collapsed": false
   },
   "outputs": [],
   "source": [
    "dfOut=dfOut[['ForecastId','Region','DaysFromStart','ConfirmedCases','Fatalities']]\n",
    "dfTe2=dfTe2[['Region','DaysFromStart','ConfirmedCases','Fatalities']]\n",
    "dfOut = dfOut.merge(dfTe2, how='outer', left_on=['Region','DaysFromStart'], right_on=['Region','DaysFromStart'], suffixes=['_Pred', ''])\n"
   ]
  },
  {
   "cell_type": "code",
   "execution_count": null,
   "metadata": {
    "collapsed": false
   },
   "outputs": [],
   "source": [
    "dfOut.columns"
   ]
  },
  {
   "cell_type": "code",
   "execution_count": null,
   "metadata": {
    "collapsed": false
   },
   "outputs": [],
   "source": [
    "rmsleCC = np.sqrt((np.square(np.log(dfOut['ConfirmedCases_Pred'] + 1) - np.log(dfOut.ConfirmedCases + 1))).mean())\n",
    "rmsleCC"
   ]
  },
  {
   "cell_type": "code",
   "execution_count": null,
   "metadata": {
    "collapsed": false
   },
   "outputs": [],
   "source": [
    "rmsleFAT = np.sqrt((np.square(np.log(dfOut['Fatalities_Pred'] + 1) - np.log(dfOut.Fatalities + 1))).mean())\n",
    "rmsleFAT"
   ]
  },
  {
   "cell_type": "code",
   "execution_count": null,
   "metadata": {
    "collapsed": false
   },
   "outputs": [],
   "source": [
    "np.mean([rmsleCC, rmsleFAT])"
   ]
  }
 ],
 "metadata": {
  "kernelspec": {
   "display_name": "Python 3",
   "language": "python",
   "name": "python3"
  },
  "language_info": {
   "codemirror_mode": {
    "name": "ipython",
    "version": 3
   },
   "file_extension": ".py",
   "mimetype": "text/x-python",
   "name": "python",
   "nbconvert_exporter": "python",
   "pygments_lexer": "ipython3",
   "version": "3.6.0"
  }
 },
 "nbformat": 4,
 "nbformat_minor": 2
}
