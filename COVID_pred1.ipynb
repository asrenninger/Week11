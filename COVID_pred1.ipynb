{
 "cells": [
  {
   "cell_type": "markdown",
   "metadata": {},
   "source": [
    "### COVID-19 Prediction Week4\n",
    "\n",
    "https://www.kaggle.com/c/covid19-global-forecasting-week-4"
   ]
  },
  {
   "cell_type": "code",
   "execution_count": 1,
   "metadata": {
    "collapsed": true
   },
   "outputs": [],
   "source": [
    "import numpy as np\n",
    "import pandas as pd\n",
    "import warnings\n",
    "warnings.filterwarnings(\"ignore\")\n"
   ]
  },
  {
   "cell_type": "markdown",
   "metadata": {},
   "source": [
    "#### Read and organize the data"
   ]
  },
  {
   "cell_type": "code",
   "execution_count": 2,
   "metadata": {
    "collapsed": false
   },
   "outputs": [
    {
     "data": {
      "text/html": [
       "<div>\n",
       "<table border=\"1\" class=\"dataframe\">\n",
       "  <thead>\n",
       "    <tr style=\"text-align: right;\">\n",
       "      <th></th>\n",
       "      <th>Id</th>\n",
       "      <th>Province_State</th>\n",
       "      <th>Country_Region</th>\n",
       "      <th>Date</th>\n",
       "      <th>ConfirmedCases</th>\n",
       "      <th>Fatalities</th>\n",
       "      <th>Region</th>\n",
       "    </tr>\n",
       "  </thead>\n",
       "  <tbody>\n",
       "    <tr>\n",
       "      <th>0</th>\n",
       "      <td>1</td>\n",
       "      <td></td>\n",
       "      <td>Afghanistan</td>\n",
       "      <td>2020-01-22</td>\n",
       "      <td>0.0</td>\n",
       "      <td>0.0</td>\n",
       "      <td>Afghanistan_</td>\n",
       "    </tr>\n",
       "    <tr>\n",
       "      <th>1</th>\n",
       "      <td>2</td>\n",
       "      <td></td>\n",
       "      <td>Afghanistan</td>\n",
       "      <td>2020-01-23</td>\n",
       "      <td>0.0</td>\n",
       "      <td>0.0</td>\n",
       "      <td>Afghanistan_</td>\n",
       "    </tr>\n",
       "    <tr>\n",
       "      <th>2</th>\n",
       "      <td>3</td>\n",
       "      <td></td>\n",
       "      <td>Afghanistan</td>\n",
       "      <td>2020-01-24</td>\n",
       "      <td>0.0</td>\n",
       "      <td>0.0</td>\n",
       "      <td>Afghanistan_</td>\n",
       "    </tr>\n",
       "    <tr>\n",
       "      <th>3</th>\n",
       "      <td>4</td>\n",
       "      <td></td>\n",
       "      <td>Afghanistan</td>\n",
       "      <td>2020-01-25</td>\n",
       "      <td>0.0</td>\n",
       "      <td>0.0</td>\n",
       "      <td>Afghanistan_</td>\n",
       "    </tr>\n",
       "    <tr>\n",
       "      <th>4</th>\n",
       "      <td>5</td>\n",
       "      <td></td>\n",
       "      <td>Afghanistan</td>\n",
       "      <td>2020-01-26</td>\n",
       "      <td>0.0</td>\n",
       "      <td>0.0</td>\n",
       "      <td>Afghanistan_</td>\n",
       "    </tr>\n",
       "  </tbody>\n",
       "</table>\n",
       "</div>"
      ],
      "text/plain": [
       "   Id Province_State Country_Region       Date  ConfirmedCases  Fatalities  \\\n",
       "0   1                   Afghanistan 2020-01-22             0.0         0.0   \n",
       "1   2                   Afghanistan 2020-01-23             0.0         0.0   \n",
       "2   3                   Afghanistan 2020-01-24             0.0         0.0   \n",
       "3   4                   Afghanistan 2020-01-25             0.0         0.0   \n",
       "4   5                   Afghanistan 2020-01-26             0.0         0.0   \n",
       "\n",
       "         Region  \n",
       "0  Afghanistan_  \n",
       "1  Afghanistan_  \n",
       "2  Afghanistan_  \n",
       "3  Afghanistan_  \n",
       "4  Afghanistan_  "
      ]
     },
     "execution_count": 2,
     "metadata": {},
     "output_type": "execute_result"
    }
   ],
   "source": [
    "dfTr = pd.read_csv(\"../Data/train.csv\", parse_dates=['Date'])\n",
    "dfTe = pd.read_csv(\"../Data/test.csv\", parse_dates=['Date'])\n",
    "\n",
    "dfTr[\"Province_State\"] = dfTr[\"Province_State\"].fillna('')\n",
    "dfTe[\"Province_State\"] = dfTe[\"Province_State\"].fillna('')\n",
    "\n",
    "dfTr[\"Region\"] = dfTr.Country_Region + '_' + dfTr.Province_State\n",
    "dfTe[\"Region\"] = dfTe.Country_Region + '_' + dfTe.Province_State\n",
    "\n",
    "dfOut = dfTe.copy()\n",
    "\n",
    "dfTr.head()"
   ]
  },
  {
   "cell_type": "code",
   "execution_count": 3,
   "metadata": {
    "collapsed": false
   },
   "outputs": [
    {
     "data": {
      "text/plain": [
       "(13459, 2)"
      ]
     },
     "execution_count": 3,
     "metadata": {},
     "output_type": "execute_result"
    }
   ],
   "source": [
    "dfTe.iloc[:,3:5].shape"
   ]
  },
  {
   "cell_type": "code",
   "execution_count": 4,
   "metadata": {
    "collapsed": false
   },
   "outputs": [],
   "source": [
    "stDate = pd.to_datetime(dfTr.Date.min())\n",
    "\n",
    "dfTr['DaysFromStart'] = (pd.to_datetime(dfTr.Date) - stDate).dt.days\n",
    "dfTe['DaysFromStart'] = (pd.to_datetime(dfTe.Date) - stDate).dt.days\n"
   ]
  },
  {
   "cell_type": "code",
   "execution_count": 5,
   "metadata": {
    "collapsed": false
   },
   "outputs": [
    {
     "data": {
      "text/html": [
       "<div>\n",
       "<table border=\"1\" class=\"dataframe\">\n",
       "  <thead>\n",
       "    <tr style=\"text-align: right;\">\n",
       "      <th></th>\n",
       "      <th>Id</th>\n",
       "      <th>Province_State</th>\n",
       "      <th>Country_Region</th>\n",
       "      <th>Date</th>\n",
       "      <th>ConfirmedCases</th>\n",
       "      <th>Fatalities</th>\n",
       "      <th>Region</th>\n",
       "      <th>DaysFromStart</th>\n",
       "    </tr>\n",
       "  </thead>\n",
       "  <tbody>\n",
       "    <tr>\n",
       "      <th>0</th>\n",
       "      <td>1</td>\n",
       "      <td></td>\n",
       "      <td>Afghanistan</td>\n",
       "      <td>2020-01-22</td>\n",
       "      <td>0.0</td>\n",
       "      <td>0.0</td>\n",
       "      <td>Afghanistan_</td>\n",
       "      <td>0</td>\n",
       "    </tr>\n",
       "    <tr>\n",
       "      <th>1</th>\n",
       "      <td>2</td>\n",
       "      <td></td>\n",
       "      <td>Afghanistan</td>\n",
       "      <td>2020-01-23</td>\n",
       "      <td>0.0</td>\n",
       "      <td>0.0</td>\n",
       "      <td>Afghanistan_</td>\n",
       "      <td>1</td>\n",
       "    </tr>\n",
       "    <tr>\n",
       "      <th>2</th>\n",
       "      <td>3</td>\n",
       "      <td></td>\n",
       "      <td>Afghanistan</td>\n",
       "      <td>2020-01-24</td>\n",
       "      <td>0.0</td>\n",
       "      <td>0.0</td>\n",
       "      <td>Afghanistan_</td>\n",
       "      <td>2</td>\n",
       "    </tr>\n",
       "    <tr>\n",
       "      <th>3</th>\n",
       "      <td>4</td>\n",
       "      <td></td>\n",
       "      <td>Afghanistan</td>\n",
       "      <td>2020-01-25</td>\n",
       "      <td>0.0</td>\n",
       "      <td>0.0</td>\n",
       "      <td>Afghanistan_</td>\n",
       "      <td>3</td>\n",
       "    </tr>\n",
       "    <tr>\n",
       "      <th>4</th>\n",
       "      <td>5</td>\n",
       "      <td></td>\n",
       "      <td>Afghanistan</td>\n",
       "      <td>2020-01-26</td>\n",
       "      <td>0.0</td>\n",
       "      <td>0.0</td>\n",
       "      <td>Afghanistan_</td>\n",
       "      <td>4</td>\n",
       "    </tr>\n",
       "  </tbody>\n",
       "</table>\n",
       "</div>"
      ],
      "text/plain": [
       "   Id Province_State Country_Region       Date  ConfirmedCases  Fatalities  \\\n",
       "0   1                   Afghanistan 2020-01-22             0.0         0.0   \n",
       "1   2                   Afghanistan 2020-01-23             0.0         0.0   \n",
       "2   3                   Afghanistan 2020-01-24             0.0         0.0   \n",
       "3   4                   Afghanistan 2020-01-25             0.0         0.0   \n",
       "4   5                   Afghanistan 2020-01-26             0.0         0.0   \n",
       "\n",
       "         Region  DaysFromStart  \n",
       "0  Afghanistan_              0  \n",
       "1  Afghanistan_              1  \n",
       "2  Afghanistan_              2  \n",
       "3  Afghanistan_              3  \n",
       "4  Afghanistan_              4  "
      ]
     },
     "execution_count": 5,
     "metadata": {},
     "output_type": "execute_result"
    }
   ],
   "source": [
    "dfTr.head()"
   ]
  },
  {
   "cell_type": "code",
   "execution_count": 6,
   "metadata": {
    "collapsed": false
   },
   "outputs": [
    {
     "data": {
      "text/plain": [
       "(313,)"
      ]
     },
     "execution_count": 6,
     "metadata": {},
     "output_type": "execute_result"
    }
   ],
   "source": [
    "dfTr.Region = dfTr.Region.str.replace('*','')\n",
    "dfTe.Region = dfTe.Region.str.replace('*','')\n",
    "\n",
    "RegUniq = np.unique(dfTr.Region)\n",
    "RegUniq.shape"
   ]
  },
  {
   "cell_type": "markdown",
   "metadata": {},
   "source": [
    "#### Plot day stats"
   ]
  },
  {
   "cell_type": "code",
   "execution_count": 7,
   "metadata": {
    "collapsed": false
   },
   "outputs": [
    {
     "data": {
      "image/png": "[encoded data removed]",
      "text/plain": [
       "<matplotlib.figure.Figure at 0x7ffb74a30c18>"
      ]
     },
     "metadata": {},
     "output_type": "display_data"
    }
   ],
   "source": [
    "import matplotlib.pyplot as plt\n",
    "import random\n",
    "numReg = 5\n",
    "\n",
    "selReg = random.choices(RegUniq, k=numReg)\n",
    "dfTmp = dfTr[dfTr.Region.isin(selReg)]\n",
    "selReg\n",
    "fig = plt.figure()\n",
    "ax = fig.add_subplot(111)\n",
    "\n",
    "lines = dfTmp.groupby('Region').plot(x='DaysFromStart', y='ConfirmedCases', ax=ax)\n",
    "ax.legend(selReg, loc='best')\n",
    "plt.show()"
   ]
  },
  {
   "cell_type": "markdown",
   "metadata": {},
   "source": [
    "#### First model: simple regression (polynomial model)"
   ]
  },
  {
   "cell_type": "code",
   "execution_count": 8,
   "metadata": {
    "collapsed": false
   },
   "outputs": [],
   "source": [
    "from sklearn.preprocessing import PolynomialFeatures\n",
    "from sklearn.linear_model import LinearRegression\n",
    "from sklearn.preprocessing import StandardScaler\n",
    "\n",
    "polyCC = PolynomialFeatures(degree = 4)\n",
    "polyFAT = PolynomialFeatures(degree = 4)\n",
    "\n",
    "regCC = LinearRegression()\n",
    "regFAT = LinearRegression()\n",
    "\n",
    "dfTeWithPred = dfTe.copy()\n",
    "\n",
    "for i, tmpReg in enumerate(RegUniq):\n",
    "    #print('Region: ' + str(i))\n",
    "    dfSelTr = dfTr[dfTr.Region == tmpReg]\n",
    "    dfSelTe = dfTe[dfTe.Region == tmpReg]\n",
    "    \n",
    "    XTr = np.array(dfSelTr.DaysFromStart).reshape([dfSelTr.shape[0],1])\n",
    "    XTe = np.array(dfSelTe.DaysFromStart).reshape([dfSelTe.shape[0],1])\n",
    "\n",
    "    yccTr = np.array(dfSelTr.ConfirmedCases)\n",
    "    yfatTr = np.array(dfSelTr.Fatalities)\n",
    "    \n",
    "    X_poly = polyCC.fit_transform(XTr)\n",
    "    regCC.fit(X_poly, yccTr)\n",
    "    predCC = regCC.predict(polyCC.fit_transform(XTe))\n",
    "\n",
    "    X_poly = polyFAT.fit_transform(XTr)\n",
    "    regFAT.fit(X_poly, yfatTr)\n",
    "    predFAT = regFAT.predict(polyFAT.fit_transform(XTe))\n",
    "    \n",
    "    ## Add predictions to test df\n",
    "    dfTeWithPred.loc[dfSelTe.index,'ConfirmedCases'] = predCC\n",
    "    dfTeWithPred.loc[dfSelTe.index,'Fatalities'] = predFAT\n",
    "    \n",
    "    "
   ]
  },
  {
   "cell_type": "code",
   "execution_count": 9,
   "metadata": {
    "collapsed": false
   },
   "outputs": [
    {
     "data": {
      "text/html": [
       "<div>\n",
       "<table border=\"1\" class=\"dataframe\">\n",
       "  <thead>\n",
       "    <tr style=\"text-align: right;\">\n",
       "      <th></th>\n",
       "      <th>ForecastId</th>\n",
       "      <th>Province_State</th>\n",
       "      <th>Country_Region</th>\n",
       "      <th>Date</th>\n",
       "      <th>Region</th>\n",
       "      <th>DaysFromStart</th>\n",
       "      <th>ConfirmedCases</th>\n",
       "      <th>Fatalities</th>\n",
       "    </tr>\n",
       "  </thead>\n",
       "  <tbody>\n",
       "    <tr>\n",
       "      <th>0</th>\n",
       "      <td>1</td>\n",
       "      <td></td>\n",
       "      <td>Afghanistan</td>\n",
       "      <td>2020-04-02</td>\n",
       "      <td>Afghanistan_</td>\n",
       "      <td>71</td>\n",
       "      <td>240.952067</td>\n",
       "      <td>6.481849</td>\n",
       "    </tr>\n",
       "    <tr>\n",
       "      <th>1</th>\n",
       "      <td>2</td>\n",
       "      <td></td>\n",
       "      <td>Afghanistan</td>\n",
       "      <td>2020-04-03</td>\n",
       "      <td>Afghanistan_</td>\n",
       "      <td>72</td>\n",
       "      <td>268.663150</td>\n",
       "      <td>7.357329</td>\n",
       "    </tr>\n",
       "    <tr>\n",
       "      <th>2</th>\n",
       "      <td>3</td>\n",
       "      <td></td>\n",
       "      <td>Afghanistan</td>\n",
       "      <td>2020-04-04</td>\n",
       "      <td>Afghanistan_</td>\n",
       "      <td>73</td>\n",
       "      <td>298.530442</td>\n",
       "      <td>8.308596</td>\n",
       "    </tr>\n",
       "    <tr>\n",
       "      <th>3</th>\n",
       "      <td>4</td>\n",
       "      <td></td>\n",
       "      <td>Afghanistan</td>\n",
       "      <td>2020-04-05</td>\n",
       "      <td>Afghanistan_</td>\n",
       "      <td>74</td>\n",
       "      <td>330.656072</td>\n",
       "      <td>9.339517</td>\n",
       "    </tr>\n",
       "    <tr>\n",
       "      <th>4</th>\n",
       "      <td>5</td>\n",
       "      <td></td>\n",
       "      <td>Afghanistan</td>\n",
       "      <td>2020-04-06</td>\n",
       "      <td>Afghanistan_</td>\n",
       "      <td>75</td>\n",
       "      <td>365.144409</td>\n",
       "      <td>10.454048</td>\n",
       "    </tr>\n",
       "  </tbody>\n",
       "</table>\n",
       "</div>"
      ],
      "text/plain": [
       "   ForecastId Province_State Country_Region       Date        Region  \\\n",
       "0           1                   Afghanistan 2020-04-02  Afghanistan_   \n",
       "1           2                   Afghanistan 2020-04-03  Afghanistan_   \n",
       "2           3                   Afghanistan 2020-04-04  Afghanistan_   \n",
       "3           4                   Afghanistan 2020-04-05  Afghanistan_   \n",
       "4           5                   Afghanistan 2020-04-06  Afghanistan_   \n",
       "\n",
       "   DaysFromStart  ConfirmedCases  Fatalities  \n",
       "0             71      240.952067    6.481849  \n",
       "1             72      268.663150    7.357329  \n",
       "2             73      298.530442    8.308596  \n",
       "3             74      330.656072    9.339517  \n",
       "4             75      365.144409   10.454048  "
      ]
     },
     "execution_count": 9,
     "metadata": {},
     "output_type": "execute_result"
    }
   ],
   "source": [
    "## Show predictions\n",
    "dfTeWithPred.head()"
   ]
  },
  {
   "cell_type": "code",
   "execution_count": 10,
   "metadata": {
    "collapsed": false
   },
   "outputs": [
    {
     "data": {
      "text/html": [
       "<div>\n",
       "<table border=\"1\" class=\"dataframe\">\n",
       "  <thead>\n",
       "    <tr style=\"text-align: right;\">\n",
       "      <th></th>\n",
       "      <th>ForecastId</th>\n",
       "      <th>ConfirmedCases</th>\n",
       "      <th>Fatalities</th>\n",
       "    </tr>\n",
       "  </thead>\n",
       "  <tbody>\n",
       "    <tr>\n",
       "      <th>0</th>\n",
       "      <td>1</td>\n",
       "      <td>241</td>\n",
       "      <td>6</td>\n",
       "    </tr>\n",
       "    <tr>\n",
       "      <th>1</th>\n",
       "      <td>2</td>\n",
       "      <td>269</td>\n",
       "      <td>7</td>\n",
       "    </tr>\n",
       "    <tr>\n",
       "      <th>2</th>\n",
       "      <td>3</td>\n",
       "      <td>299</td>\n",
       "      <td>8</td>\n",
       "    </tr>\n",
       "    <tr>\n",
       "      <th>3</th>\n",
       "      <td>4</td>\n",
       "      <td>331</td>\n",
       "      <td>9</td>\n",
       "    </tr>\n",
       "    <tr>\n",
       "      <th>4</th>\n",
       "      <td>5</td>\n",
       "      <td>365</td>\n",
       "      <td>10</td>\n",
       "    </tr>\n",
       "  </tbody>\n",
       "</table>\n",
       "</div>"
      ],
      "text/plain": [
       "   ForecastId  ConfirmedCases  Fatalities\n",
       "0           1             241           6\n",
       "1           2             269           7\n",
       "2           3             299           8\n",
       "3           4             331           9\n",
       "4           5             365          10"
      ]
     },
     "execution_count": 10,
     "metadata": {},
     "output_type": "execute_result"
    }
   ],
   "source": [
    "## Prepare submission file\n",
    "dfOut = dfTeWithPred[['ForecastId', 'ConfirmedCases', 'Fatalities']].round().astype(int)\n",
    "dfOut.head()"
   ]
  },
  {
   "cell_type": "markdown",
   "metadata": {},
   "source": [
    "### Show predictions"
   ]
  },
  {
   "cell_type": "code",
   "execution_count": 11,
   "metadata": {
    "collapsed": false
   },
   "outputs": [
    {
     "name": "stdout",
     "output_type": "stream",
     "text": [
      "Zimbabwe_\n"
     ]
    },
    {
     "data": {
      "image/png": "[encoded data removed]",
      "text/plain": [
       "<matplotlib.figure.Figure at 0x7ffb5fc21a20>"
      ]
     },
     "metadata": {},
     "output_type": "display_data"
    }
   ],
   "source": [
    "## Show predictions\n",
    "\n",
    "print(tmpReg)\n",
    "\n",
    "fig, ax = plt.subplots(figsize = [16, 8])\n",
    "\n",
    "plt.plot(XTr, yccTr, linewidth = 4, alpha=0.5)\n",
    "plt.plot(XTe, predCC, 'g.')\n",
    "plt.show()\n"
   ]
  },
  {
   "cell_type": "markdown",
   "metadata": {},
   "source": [
    "### Show predictions"
   ]
  },
  {
   "cell_type": "code",
   "execution_count": 12,
   "metadata": {
    "collapsed": false,
    "scrolled": false
   },
   "outputs": [
    {
     "data": {
      "image/png": "[encoded data removed]",
      "text/plain": [
       "<matplotlib.figure.Figure at 0x7ffb545c3f60>"
      ]
     },
     "metadata": {},
     "output_type": "display_data"
    }
   ],
   "source": [
    "## Show predictions\n",
    "\n",
    "SelReg = 'Sweden_'\n",
    "SelReg = 'Italy_'\n",
    "#SelReg = 'US_Pennsylvania'\n",
    "SelVar = 'ConfirmedCases'\n",
    "#SelVar = 'Fatalities'\n",
    "\n",
    "dfSel = dfTr[dfTr.Region == SelReg]\n",
    "\n",
    "xTr = dfSel.DaysFromStart\n",
    "yTr = dfSel[SelVar]\n",
    "dfSel = dfTeWithPred[dfTeWithPred.Region == SelReg]\n",
    "xTe = dfSel.DaysFromStart\n",
    "yTe = dfSel[SelVar]\n",
    "\n",
    "fig, ax = plt.subplots(figsize = [16, 8])\n",
    "fig.canvas.draw()\n",
    "\n",
    "ax.xaxis.set_major_locator(plt.MaxNLocator(30))\n",
    "ax.plot(xTr, yTr, linewidth=5, alpha=0.5)\n",
    "ax.plot(xTe, yTe, 'r.')\n",
    "\n",
    "plt.xticks(rotation=10)\n",
    "plt.show()\n"
   ]
  },
  {
   "cell_type": "markdown",
   "metadata": {},
   "source": [
    "### Show US predictions"
   ]
  },
  {
   "cell_type": "code",
   "execution_count": 13,
   "metadata": {
    "collapsed": false
   },
   "outputs": [
    {
     "data": {
      "text/plain": [
       "array(['US_Alabama', 'US_Alaska', 'US_Arizona', 'US_Arkansas',\n",
       "       'US_California', 'US_Colorado', 'US_Connecticut', 'US_Delaware',\n",
       "       'US_District of Columbia', 'US_Florida', 'US_Georgia', 'US_Guam',\n",
       "       'US_Hawaii', 'US_Idaho', 'US_Illinois', 'US_Indiana', 'US_Iowa',\n",
       "       'US_Kansas', 'US_Kentucky', 'US_Louisiana', 'US_Maine',\n",
       "       'US_Maryland', 'US_Massachusetts', 'US_Michigan', 'US_Minnesota',\n",
       "       'US_Mississippi', 'US_Missouri', 'US_Montana', 'US_Nebraska',\n",
       "       'US_Nevada', 'US_New Hampshire', 'US_New Jersey', 'US_New Mexico',\n",
       "       'US_New York', 'US_North Carolina', 'US_North Dakota', 'US_Ohio',\n",
       "       'US_Oklahoma', 'US_Oregon', 'US_Pennsylvania', 'US_Puerto Rico',\n",
       "       'US_Rhode Island', 'US_South Carolina', 'US_South Dakota',\n",
       "       'US_Tennessee', 'US_Texas', 'US_Utah', 'US_Vermont',\n",
       "       'US_Virgin Islands', 'US_Virginia', 'US_Washington',\n",
       "       'US_West Virginia', 'US_Wisconsin', 'US_Wyoming'], dtype=object)"
      ]
     },
     "execution_count": 13,
     "metadata": {},
     "output_type": "execute_result"
    }
   ],
   "source": [
    "dfTr[dfTr.Region.str.contains('US_')].Region.unique()"
   ]
  },
  {
   "cell_type": "code",
   "execution_count": 14,
   "metadata": {
    "collapsed": false
   },
   "outputs": [
    {
     "data": {
      "text/html": [
       "<div>\n",
       "<table border=\"1\" class=\"dataframe\">\n",
       "  <thead>\n",
       "    <tr style=\"text-align: right;\">\n",
       "      <th></th>\n",
       "      <th>Date</th>\n",
       "      <th>DaysFromStart</th>\n",
       "      <th>ConfirmedCases</th>\n",
       "      <th>Fatalities</th>\n",
       "    </tr>\n",
       "  </thead>\n",
       "  <tbody>\n",
       "    <tr>\n",
       "      <th>0</th>\n",
       "      <td>2020-04-02</td>\n",
       "      <td>71</td>\n",
       "      <td>231136.908537</td>\n",
       "      <td>6463.433216</td>\n",
       "    </tr>\n",
       "    <tr>\n",
       "      <th>1</th>\n",
       "      <td>2020-04-03</td>\n",
       "      <td>72</td>\n",
       "      <td>257973.686943</td>\n",
       "      <td>7496.010214</td>\n",
       "    </tr>\n",
       "    <tr>\n",
       "      <th>2</th>\n",
       "      <td>2020-04-04</td>\n",
       "      <td>73</td>\n",
       "      <td>286871.136896</td>\n",
       "      <td>8627.030271</td>\n",
       "    </tr>\n",
       "    <tr>\n",
       "      <th>3</th>\n",
       "      <td>2020-04-05</td>\n",
       "      <td>74</td>\n",
       "      <td>317924.959148</td>\n",
       "      <td>9861.829688</td>\n",
       "    </tr>\n",
       "    <tr>\n",
       "      <th>4</th>\n",
       "      <td>2020-04-06</td>\n",
       "      <td>75</td>\n",
       "      <td>351232.910306</td>\n",
       "      <td>11205.873458</td>\n",
       "    </tr>\n",
       "  </tbody>\n",
       "</table>\n",
       "</div>"
      ],
      "text/plain": [
       "        Date  DaysFromStart  ConfirmedCases    Fatalities\n",
       "0 2020-04-02             71   231136.908537   6463.433216\n",
       "1 2020-04-03             72   257973.686943   7496.010214\n",
       "2 2020-04-04             73   286871.136896   8627.030271\n",
       "3 2020-04-05             74   317924.959148   9861.829688\n",
       "4 2020-04-06             75   351232.910306  11205.873458"
      ]
     },
     "execution_count": 14,
     "metadata": {},
     "output_type": "execute_result"
    }
   ],
   "source": [
    "## Get all US data\n",
    "dfTrUS = dfTr[dfTr.Country_Region=='US']\n",
    "dfTrUS = dfTrUS.groupby(['Date','DaysFromStart'])[['ConfirmedCases','Fatalities']].sum().reset_index()\n",
    "dfTrUS.head()\n",
    "\n",
    "dfTeUS = dfTeWithPred[dfTeWithPred.Country_Region=='US']\n",
    "dfTeUS = dfTeUS.groupby(['Date','DaysFromStart'])[['ConfirmedCases','Fatalities']].sum().reset_index()\n",
    "dfTeUS.head()"
   ]
  },
  {
   "cell_type": "code",
   "execution_count": 15,
   "metadata": {
    "collapsed": false,
    "scrolled": false
   },
   "outputs": [
    {
     "data": {
      "image/png": "[encoded data removed]",
      "text/plain": [
       "<matplotlib.figure.Figure at 0x7ffb545c3fd0>"
      ]
     },
     "metadata": {},
     "output_type": "display_data"
    }
   ],
   "source": [
    "SelVar = 'ConfirmedCases'\n",
    "#SelVar = 'Fatalities'\n",
    "\n",
    "dfSelTr = dfTrUS\n",
    "xTr = dfSelTr.DaysFromStart\n",
    "yTr = dfSelTr[SelVar]\n",
    "\n",
    "dfSelTe = dfTeUS\n",
    "xTe = dfSelTe.DaysFromStart\n",
    "yTe = dfSelTe[SelVar]\n",
    "\n",
    "fig, ax = plt.subplots(figsize = [16, 8])\n",
    "fig.canvas.draw()\n",
    "\n",
    "ax.xaxis.set_major_locator(plt.MaxNLocator(30))\n",
    "ax.plot(xTr, yTr, linewidth=5, alpha=0.5)\n",
    "ax.plot(xTe, yTe, 'r.')\n",
    "#plt.xticks(dfSel.Date.tolist())\n",
    "\n",
    "plt.xticks(rotation=70)\n",
    "plt.show()\n",
    "\n",
    "#dfSelTr.Date.tolist()\n",
    "\n",
    "#a,b = plt.xticks()\n"
   ]
  }
 ],
 "metadata": {
  "kernelspec": {
   "display_name": "Python 3",
   "language": "python",
   "name": "python3"
  },
  "language_info": {
   "codemirror_mode": {
    "name": "ipython",
    "version": 3
   },
   "file_extension": ".py",
   "mimetype": "text/x-python",
   "name": "python",
   "nbconvert_exporter": "python",
   "pygments_lexer": "ipython3",
   "version": "3.6.0"
  }
 },
 "nbformat": 4,
 "nbformat_minor": 2
}
